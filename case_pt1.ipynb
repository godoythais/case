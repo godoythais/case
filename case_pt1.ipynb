{
 "cells": [
  {
   "cell_type": "code",
   "execution_count": 22,
   "metadata": {},
   "outputs": [],
   "source": [
    "import csv\n",
    "from collections import defaultdict\n",
    "from pyspark.sql import SparkSession\n",
    "from pyspark.sql.functions import col\n",
    "from pyspark.sql import SparkSession\n",
    "from pyspark.sql import functions as F\n",
    "from pyspark.sql.functions import col, count, when"
   ]
  },
  {
   "cell_type": "markdown",
   "metadata": {},
   "source": [
    "Lendo os arquivos csv como dataframes, troca do nome da coluna ID na tabela GCP para evitar ambiguidade.\n",
    "\n",
    "Verificando a quantidade de linhas da tabela e suas diferenças:"
   ]
  },
  {
   "cell_type": "code",
   "execution_count": 19,
   "metadata": {},
   "outputs": [
    {
     "name": "stdout",
     "output_type": "stream",
     "text": [
      "+-------+-----------+------------+---------------+------------+----------------+--------------------+--------------------+--------------------+-----------------+----------+-------------+----------+---------------+----------+----------+---------------+---------------+\n",
      "|     ID|CODE_GENDER|FLAG_OWN_CAR|FLAG_OWN_REALTY|CNT_CHILDREN|AMT_INCOME_TOTAL|    NAME_INCOME_TYPE| NAME_EDUCATION_TYPE|  NAME_FAMILY_STATUS|NAME_HOUSING_TYPE|DAYS_BIRTH|DAYS_EMPLOYED|FLAG_MOBIL|FLAG_WORK_PHONE|FLAG_PHONE|FLAG_EMAIL|OCCUPATION_TYPE|CNT_FAM_MEMBERS|\n",
      "+-------+-----------+------------+---------------+------------+----------------+--------------------+--------------------+--------------------+-----------------+----------+-------------+----------+---------------+----------+----------+---------------+---------------+\n",
      "|5008804|          M|           Y|              Y|           0|        427500.0|             Working|    Higher education|      Civil marriage| Rented apartment|    -12005|        -4542|         1|              1|         0|         0|           null|            2.0|\n",
      "|5008805|          M|           Y|              Y|           0|        427500.0|             Working|    Higher education|      Civil marriage| Rented apartment|    -12005|        -4542|         1|              1|         0|         0|           null|            2.0|\n",
      "|5008806|          M|           Y|              Y|           0|        112500.0|             Working|Secondary / secon...|             Married|House / apartment|    -21474|        -1134|         1|              0|         0|         0| Security staff|            2.0|\n",
      "|5008808|          F|           N|              Y|           0|        270000.0|Commercial associate|Secondary / secon...|Single / not married|House / apartment|    -19110|        -3051|         1|              0|         1|         1|    Sales staff|            1.0|\n",
      "|5008809|          F|           N|              Y|           0|        270000.0|Commercial associate|Secondary / secon...|Single / not married|House / apartment|    -19110|        -3051|         1|              0|         1|         1|    Sales staff|            1.0|\n",
      "|5008810|          F|           N|              Y|           0|        270000.0|Commercial associate|Secondary / secon...|Single / not married|House / apartment|    -19110|        -3051|         1|              0|         1|         1|    Sales staff|            1.0|\n",
      "|5008811|          F|           N|              Y|           0|        270000.0|Commercial associate|Secondary / secon...|Single / not married|House / apartment|    -19110|        -3051|         1|              0|         1|         1|    Sales staff|            1.0|\n",
      "|5008812|          F|           N|              Y|           0|        283500.0|           Pensioner|    Higher education|           Separated|House / apartment|    -22464|       365243|         1|              0|         0|         0|           null|            1.0|\n",
      "|5008813|          F|           N|              Y|           0|        283500.0|           Pensioner|    Higher education|           Separated|House / apartment|    -22464|       365243|         1|              0|         0|         0|           null|            1.0|\n",
      "|5008814|          F|           N|              Y|           0|        283500.0|           Pensioner|    Higher education|           Separated|House / apartment|    -22464|       365243|         1|              0|         0|         0|           null|            1.0|\n",
      "|5008815|          M|           Y|              Y|           0|        270000.0|             Working|    Higher education|             Married|House / apartment|    -16872|         -769|         1|              1|         1|         1|    Accountants|            2.0|\n",
      "|5112956|          M|           Y|              Y|           0|        270000.0|             Working|    Higher education|             Married|House / apartment|    -16872|         -769|         1|              1|         1|         1|    Accountants|            2.0|\n",
      "|6153651|          M|           Y|              Y|           0|        270000.0|             Working|    Higher education|             Married|House / apartment|    -16872|         -769|         1|              1|         1|         1|    Accountants|            2.0|\n",
      "|5008819|          M|           Y|              Y|           0|        135000.0|Commercial associate|Secondary / secon...|             Married|House / apartment|    -17778|        -1194|         1|              0|         0|         0|       Laborers|            2.0|\n",
      "|5008820|          M|           Y|              Y|           0|        135000.0|Commercial associate|Secondary / secon...|             Married|House / apartment|    -17778|        -1194|         1|              0|         0|         0|       Laborers|            2.0|\n",
      "|5008821|          M|           Y|              Y|           0|        135000.0|Commercial associate|Secondary / secon...|             Married|House / apartment|    -17778|        -1194|         1|              0|         0|         0|       Laborers|            2.0|\n",
      "|5008822|          M|           Y|              Y|           0|        135000.0|Commercial associate|Secondary / secon...|             Married|House / apartment|    -17778|        -1194|         1|              0|         0|         0|       Laborers|            2.0|\n",
      "|5008823|          M|           Y|              Y|           0|        135000.0|Commercial associate|Secondary / secon...|             Married|House / apartment|    -17778|        -1194|         1|              0|         0|         0|       Laborers|            2.0|\n",
      "|5008824|          M|           Y|              Y|           0|        135000.0|Commercial associate|Secondary / secon...|             Married|House / apartment|    -17778|        -1194|         1|              0|         0|         0|       Laborers|            2.0|\n",
      "|5008825|          F|           Y|              N|           0|        130500.0|             Working|   Incomplete higher|             Married|House / apartment|    -10669|        -1103|         1|              0|         0|         0|    Accountants|            2.0|\n",
      "+-------+-----------+------------+---------------+------------+----------------+--------------------+--------------------+--------------------+-----------------+----------+-------------+----------+---------------+----------+----------+---------------+---------------+\n",
      "only showing top 20 rows\n",
      "\n",
      "+-------+-----------+------------+---------------+------------+----------------+--------------------+--------------------+--------------------+-----------------+----------+-------------+----------+---------------+----------+----------+------------------+---------------+\n",
      "| gcp_ID|CODE_GENDER|FLAG_OWN_CAR|FLAG_OWN_REALTY|CNT_CHILDREN|AMT_INCOME_TOTAL|    NAME_INCOME_TYPE| NAME_EDUCATION_TYPE|  NAME_FAMILY_STATUS|NAME_HOUSING_TYPE|DAYS_BIRTH|DAYS_EMPLOYED|FLAG_MOBIL|FLAG_WORK_PHONE|FLAG_PHONE|FLAG_EMAIL|   OCCUPATION_TYPE|CNT_FAM_MEMBERS|\n",
      "+-------+-----------+------------+---------------+------------+----------------+--------------------+--------------------+--------------------+-----------------+----------+-------------+----------+---------------+----------+----------+------------------+---------------+\n",
      "|5008804|       Male|           Y|              Y|           0|      42750000.0|             Working|    Higher education|      Civil marriage| Rented apartment|     12005|        -4542|         1|           null|         0|         0|Without Occupation|            2.0|\n",
      "|5008805|       Male|           Y|              Y|           0|      42750000.0|             Working|    Higher education|      Civil marriage| Rented apartment|     12005|        -4542|         1|           null|         0|         0|Without Occupation|            2.0|\n",
      "|5008806|       Male|           Y|              Y|           0|      11250000.0|             Working|Secondary / secon...|             Married|House / apartment|     21474|        -1134|         1|           null|         0|         0|    Security staff|            2.0|\n",
      "|5008808|     Female|           N|              Y|           0|      27000000.0|Commercial associate|Secondary / secon...|Single / not married|House / apartment|     19110|        -3051|         1|            0.0|         1|         1|       Sales staff|            1.0|\n",
      "|5008809|     Female|           N|              Y|           0|      27000000.0|Commercial associate|Secondary / secon...|Single / not married|House / apartment|     19110|        -3051|         1|            0.0|         1|         1|       Sales staff|            1.0|\n",
      "|5008810|     Female|           N|              Y|           0|      27000000.0|Commercial associate|Secondary / secon...|Single / not married|House / apartment|     19110|        -3051|         1|            0.0|         1|         1|       Sales staff|            1.0|\n",
      "|5008811|     Female|           N|              Y|           0|      27000000.0|Commercial associate|Secondary / secon...|Single / not married|House / apartment|     19110|        -3051|         1|            0.0|         1|         1|       Sales staff|            1.0|\n",
      "|5008812|     Female|           N|              Y|           0|      28350000.0|           Pensioner|    Higher education|           Separated|House / apartment|     22464|       365243|         1|           null|         0|         0|Without Occupation|            1.0|\n",
      "|5008813|     Female|           N|              Y|           0|      28350000.0|           Pensioner|    Higher education|           Separated|House / apartment|     22464|       365243|         1|           null|         0|         0|Without Occupation|            1.0|\n",
      "|5008814|     Female|           N|              Y|           0|      28350000.0|           Pensioner|    Higher education|           Separated|House / apartment|     22464|       365243|         1|           null|         0|         0|Without Occupation|            1.0|\n",
      "|5008815|       Male|           Y|              Y|           0|      27000000.0|             Working|    Higher education|             Married|House / apartment|     16872|         -769|         1|            1.0|         1|         1|       Accountants|            2.0|\n",
      "|5112956|       Male|           Y|              Y|           0|      27000000.0|             Working|    Higher education|             Married|House / apartment|     16872|         -769|         1|            1.0|         1|         1|       Accountants|            2.0|\n",
      "|6153651|       Male|           Y|              Y|           0|      27000000.0|             Working|    Higher education|             Married|House / apartment|     16872|         -769|         1|            1.0|         1|         1|       Accountants|            2.0|\n",
      "|5008819|       Male|           Y|              Y|           0|      13500000.0|Commercial associate|Secondary / secon...|             Married|House / apartment|     17778|        -1194|         1|           null|         0|         0|          Laborers|            2.0|\n",
      "|5008820|       Male|           Y|              Y|           0|      13500000.0|Commercial associate|Secondary / secon...|             Married|House / apartment|     17778|        -1194|         1|           null|         0|         0|          Laborers|            2.0|\n",
      "|5008821|       Male|           Y|              Y|           0|      13500000.0|Commercial associate|Secondary / secon...|             Married|House / apartment|     17778|        -1194|         1|           null|         0|         0|          Laborers|            2.0|\n",
      "|5008822|       Male|           Y|              Y|           0|      13500000.0|Commercial associate|Secondary / secon...|             Married|House / apartment|     17778|        -1194|         1|           null|         0|         0|          Laborers|            2.0|\n",
      "|5008823|       Male|           Y|              Y|           0|      13500000.0|Commercial associate|Secondary / secon...|             Married|House / apartment|     17778|        -1194|         1|           null|         0|         0|          Laborers|            2.0|\n",
      "|5008824|       Male|           Y|              Y|           0|      13500000.0|Commercial associate|Secondary / secon...|             Married|House / apartment|     17778|        -1194|         1|           null|         0|         0|          Laborers|            2.0|\n",
      "|5008825|     Female|           Y|              N|           0|      13050000.0|             Working|   Incomplete higher|             Married|House / apartment|     10669|        -1103|         1|           null|         0|         0|       Accountants|            2.0|\n",
      "+-------+-----------+------------+---------------+------------+----------------+--------------------+--------------------+--------------------+-----------------+----------+-------------+----------+---------------+----------+----------+------------------+---------------+\n",
      "only showing top 20 rows\n",
      "\n",
      "DIFERENCA: 1051\n",
      "TB_LOCAL: 438510\n",
      "TB_GCP: 437459\n"
     ]
    }
   ],
   "source": [
    "spark = SparkSession.builder.appName(\"Query\").getOrCreate()\n",
    "\n",
    "file_name_local = 'application_record_local'\n",
    "df_local = spark.read.csv(file_name_local + \".csv\", header=True, sep=\";\", encoding=\"latin1\")\n",
    "\n",
    "file_name_gcp = 'application_record_gcp'\n",
    "df_gcp = spark.read.csv(file_name_gcp + \".csv\", header=True, sep=\",\", encoding=\"latin1\")\n",
    "df_gcp = df_gcp.withColumnRenamed(\"ID\", \"gcp_ID\")\n",
    "\n",
    "# contando o número de registros\n",
    "df_local_count = df_local.count()\n",
    "df_gcp_count = df_gcp.count()\n",
    "\n",
    "# diferenças entre os data frames\n",
    "diferenca = df_local_count - df_gcp_count\n",
    "\n",
    "resultado = {\n",
    "    'TB_LOCAL': df_local_count,\n",
    "    'TB_GCP': df_gcp_count,\n",
    "    'DIFERENCA': diferenca\n",
    "}\n",
    "\n",
    "for chave, valor in resultado.items():\n",
    "    print('{}: {}'.format(chave, valor))"
   ]
  },
  {
   "cell_type": "markdown",
   "metadata": {},
   "source": [
    "Verificando a quantidade de IDs distintos da tabela e suas diferenças:"
   ]
  },
  {
   "cell_type": "code",
   "execution_count": 6,
   "metadata": {},
   "outputs": [
    {
     "name": "stdout",
     "output_type": "stream",
     "text": [
      "TB_GCP_DISTINCT: 434459\n",
      "TB_LOCAL_DISTINCT: 438510\n",
      "DIFERENCA_ID_DISTINTOS: 4051\n"
     ]
    }
   ],
   "source": [
    "df_local_distinct_count = df_local.select(\"ID\").distinct().count()\n",
    "df_gcp_distinct_count = df_gcp.select(\"gcp_ID\").distinct().count()\n",
    "diferenca_id_distintos = df_local_distinct_count - df_gcp_distinct_count\n",
    "\n",
    "resultado = {\n",
    "    'TB_LOCAL_DISTINCT': df_local_distinct_count,\n",
    "    'TB_GCP_DISTINCT': df_gcp_distinct_count,\n",
    "    'DIFERENCA_ID_DISTINTOS': diferenca_id_distintos\n",
    "}\n",
    "\n",
    "for chave, valor in resultado.items():\n",
    "    print('{}: {}'.format(chave, valor))"
   ]
  },
  {
   "cell_type": "markdown",
   "metadata": {},
   "source": [
    "Lista de IDs que tem na tabela local e não na GCP:"
   ]
  },
  {
   "cell_type": "code",
   "execution_count": 20,
   "metadata": {},
   "outputs": [
    {
     "name": "stdout",
     "output_type": "stream",
     "text": [
      "+-------+-----------+------------+---------------+------------+----------------+--------------------+-------------------+--------------------+-------------------+----------+-------------+----------+---------------+----------+----------+---------------+---------------+------+-----------+------------+---------------+------------+----------------+----------------+-------------------+------------------+-----------------+----------+-------------+----------+---------------+----------+----------+---------------+---------------+\n",
      "|     ID|CODE_GENDER|FLAG_OWN_CAR|FLAG_OWN_REALTY|CNT_CHILDREN|AMT_INCOME_TOTAL|    NAME_INCOME_TYPE|NAME_EDUCATION_TYPE|  NAME_FAMILY_STATUS|  NAME_HOUSING_TYPE|DAYS_BIRTH|DAYS_EMPLOYED|FLAG_MOBIL|FLAG_WORK_PHONE|FLAG_PHONE|FLAG_EMAIL|OCCUPATION_TYPE|CNT_FAM_MEMBERS|gcp_ID|CODE_GENDER|FLAG_OWN_CAR|FLAG_OWN_REALTY|CNT_CHILDREN|AMT_INCOME_TOTAL|NAME_INCOME_TYPE|NAME_EDUCATION_TYPE|NAME_FAMILY_STATUS|NAME_HOUSING_TYPE|DAYS_BIRTH|DAYS_EMPLOYED|FLAG_MOBIL|FLAG_WORK_PHONE|FLAG_PHONE|FLAG_EMAIL|OCCUPATION_TYPE|CNT_FAM_MEMBERS|\n",
      "+-------+-----------+------------+---------------+------------+----------------+--------------------+-------------------+--------------------+-------------------+----------+-------------+----------+---------------+----------+----------+---------------+---------------+------+-----------+------------+---------------+------------+----------------+----------------+-------------------+------------------+-----------------+----------+-------------+----------+---------------+----------+----------+---------------+---------------+\n",
      "|5033986|          F|           N|              N|           0|        144000.0|           Pensioner|    Lower secondary|               Widow|Municipal apartment|    -21675|       365243|         1|              0|         0|         0|           null|            1.0|  null|       null|        null|           null|        null|            null|            null|               null|              null|             null|      null|         null|      null|           null|      null|      null|           null|           null|\n",
      "|5045921|          F|           N|              Y|           0|         40500.0|           Pensioner|    Lower secondary|             Married|  House / apartment|    -23933|       365243|         1|              0|         0|         0|           null|            2.0|  null|       null|        null|           null|        null|            null|            null|               null|              null|             null|      null|         null|      null|           null|      null|      null|           null|           null|\n",
      "|5052997|          F|           N|              Y|           0|         94500.0|           Pensioner|    Lower secondary|           Separated|  House / apartment|    -22926|       365243|         1|              0|         0|         0|           null|            1.0|  null|       null|        null|           null|        null|            null|            null|               null|              null|             null|      null|         null|      null|           null|      null|      null|           null|           null|\n",
      "|5087743|          F|           N|              Y|           0|        112500.0|           Pensioner|    Lower secondary|             Married|  House / apartment|    -24821|       365243|         1|              0|         0|         0|           null|            2.0|  null|       null|        null|           null|        null|            null|            null|               null|              null|             null|      null|         null|      null|           null|      null|      null|           null|           null|\n",
      "|5126743|          F|           N|              N|           0|        135000.0|             Working|    Lower secondary|             Married|   Rented apartment|    -19019|          -43|         1|              0|         0|         0|       Laborers|            2.0|  null|       null|        null|           null|        null|            null|            null|               null|              null|             null|      null|         null|      null|           null|      null|      null|           null|           null|\n",
      "|5260593|          F|           N|              N|           0|        225000.0|             Working|    Lower secondary|               Widow|  House / apartment|    -21811|        -2563|         1|              0|         0|         0|    Sales staff|            1.0|  null|       null|        null|           null|        null|            null|            null|               null|              null|             null|      null|         null|      null|           null|      null|      null|           null|           null|\n",
      "|5354898|          M|           Y|              Y|           1|        247500.0|             Working|    Lower secondary|             Married|  House / apartment|    -20950|         -196|         1|              0|         1|         0|       Laborers|            3.0|  null|       null|        null|           null|        null|            null|            null|               null|              null|             null|      null|         null|      null|           null|      null|      null|           null|           null|\n",
      "|5427531|          M|           N|              Y|           0|        135000.0|           Pensioner|    Lower secondary|             Married|  House / apartment|    -24210|       365243|         1|              0|         0|         0|           null|            2.0|  null|       null|        null|           null|        null|            null|            null|               null|              null|             null|      null|         null|      null|           null|      null|      null|           null|           null|\n",
      "|5467022|          F|           Y|              N|           0|        112500.0|Commercial associate|    Lower secondary|Single / not married|Municipal apartment|    -12824|         -701|         1|              0|         0|         0|    Sales staff|            1.0|  null|       null|        null|           null|        null|            null|            null|               null|              null|             null|      null|         null|      null|           null|      null|      null|           null|           null|\n",
      "|5501357|          M|           N|              Y|           0|        135000.0|             Working|    Lower secondary|      Civil marriage|  House / apartment|    -14550|         -516|         1|              1|         1|         0|       Laborers|            2.0|  null|       null|        null|           null|        null|            null|            null|               null|              null|             null|      null|         null|      null|           null|      null|      null|           null|           null|\n",
      "|5585006|          M|           N|              Y|           2|        112500.0|Commercial associate|    Lower secondary|             Married|  House / apartment|    -19742|        -4230|         1|              0|         1|         0|       Laborers|            4.0|  null|       null|        null|           null|        null|            null|            null|               null|              null|             null|      null|         null|      null|           null|      null|      null|           null|           null|\n",
      "|5702391|          M|           N|              N|           0|        112500.0|             Working|    Lower secondary|             Married|  House / apartment|    -10123|         -190|         1|              1|         1|         0|        Drivers|            2.0|  null|       null|        null|           null|        null|            null|            null|               null|              null|             null|      null|         null|      null|           null|      null|      null|           null|           null|\n",
      "|5742776|          F|           Y|              Y|           0|        135000.0|           Pensioner|    Lower secondary|             Married|  House / apartment|    -22486|       365243|         1|              0|         0|         0|           null|            2.0|  null|       null|        null|           null|        null|            null|            null|               null|              null|             null|      null|         null|      null|           null|      null|      null|           null|           null|\n",
      "|5872792|          F|           N|              Y|           0|        157500.0|           Pensioner|    Lower secondary|             Married|Municipal apartment|    -22941|       365243|         1|              0|         0|         0|           null|            2.0|  null|       null|        null|           null|        null|            null|            null|               null|              null|             null|      null|         null|      null|           null|      null|      null|           null|           null|\n",
      "|5970743|          F|           N|              N|           0|        126000.0|           Pensioner|    Lower secondary|               Widow|  House / apartment|    -21595|       365243|         1|              0|         0|         0|           null|            1.0|  null|       null|        null|           null|        null|            null|            null|               null|              null|             null|      null|         null|      null|           null|      null|      null|           null|           null|\n",
      "|6009146|          F|           N|              Y|           0|         60750.0|           Pensioner|    Lower secondary|               Widow|  House / apartment|    -22653|       365243|         1|              0|         0|         0|           null|            1.0|  null|       null|        null|           null|        null|            null|            null|               null|              null|             null|      null|         null|      null|           null|      null|      null|           null|           null|\n",
      "|6060382|          M|           N|              N|           4|        270000.0|             Working|    Lower secondary|             Married|  House / apartment|    -14200|         -467|         1|              1|         0|         0|           null|            6.0|  null|       null|        null|           null|        null|            null|            null|               null|              null|             null|      null|         null|      null|           null|      null|      null|           null|           null|\n",
      "|6077889|          M|           Y|              Y|           1|        202500.0|             Working|    Lower secondary|             Married|  House / apartment|    -14489|        -2377|         1|              0|         1|         0|        Drivers|            3.0|  null|       null|        null|           null|        null|            null|            null|               null|              null|             null|      null|         null|      null|           null|      null|      null|           null|           null|\n",
      "|6088956|          F|           N|              Y|           0|        202500.0|           Pensioner|    Lower secondary|Single / not married|  House / apartment|    -23232|       365243|         1|              0|         0|         1|           null|            1.0|  null|       null|        null|           null|        null|            null|            null|               null|              null|             null|      null|         null|      null|           null|      null|      null|           null|           null|\n",
      "|6103539|          F|           N|              Y|           1|        112500.0|       State servant|    Lower secondary|             Married|  House / apartment|    -19238|        -3509|         1|              0|         0|         0|     Core staff|            3.0|  null|       null|        null|           null|        null|            null|            null|               null|              null|             null|      null|         null|      null|           null|      null|      null|           null|           null|\n",
      "+-------+-----------+------------+---------------+------------+----------------+--------------------+-------------------+--------------------+-------------------+----------+-------------+----------+---------------+----------+----------+---------------+---------------+------+-----------+------------+---------------+------------+----------------+----------------+-------------------+------------------+-----------------+----------+-------------+----------+---------------+----------+----------+---------------+---------------+\n",
      "only showing top 20 rows\n",
      "\n"
     ]
    }
   ],
   "source": [
    "df_result = df_local.join(df_gcp, df_local[\"ID\"] == df_gcp[\"gcp_ID\"], how='left')\n",
    "\n",
    "# filtro onde o ID da tabela gcp for nulo\n",
    "df_result = df_result.filter(F.col(\"gcp_ID\").isNull())\n",
    "\n",
    "df_result.show()"
   ]
  },
  {
   "cell_type": "markdown",
   "metadata": {},
   "source": [
    "Lista de IDs que tem na tabela GCP e não na local:"
   ]
  },
  {
   "cell_type": "code",
   "execution_count": 8,
   "metadata": {},
   "outputs": [
    {
     "name": "stdout",
     "output_type": "stream",
     "text": [
      "+------+-----------+------------+---------------+------------+----------------+----------------+-------------------+------------------+-----------------+----------+-------------+----------+---------------+----------+----------+---------------+---------------+---+-----------+------------+---------------+------------+----------------+----------------+-------------------+------------------+-----------------+----------+-------------+----------+---------------+----------+----------+---------------+---------------+\n",
      "|gcp_ID|CODE_GENDER|FLAG_OWN_CAR|FLAG_OWN_REALTY|CNT_CHILDREN|AMT_INCOME_TOTAL|NAME_INCOME_TYPE|NAME_EDUCATION_TYPE|NAME_FAMILY_STATUS|NAME_HOUSING_TYPE|DAYS_BIRTH|DAYS_EMPLOYED|FLAG_MOBIL|FLAG_WORK_PHONE|FLAG_PHONE|FLAG_EMAIL|OCCUPATION_TYPE|CNT_FAM_MEMBERS| ID|CODE_GENDER|FLAG_OWN_CAR|FLAG_OWN_REALTY|CNT_CHILDREN|AMT_INCOME_TOTAL|NAME_INCOME_TYPE|NAME_EDUCATION_TYPE|NAME_FAMILY_STATUS|NAME_HOUSING_TYPE|DAYS_BIRTH|DAYS_EMPLOYED|FLAG_MOBIL|FLAG_WORK_PHONE|FLAG_PHONE|FLAG_EMAIL|OCCUPATION_TYPE|CNT_FAM_MEMBERS|\n",
      "+------+-----------+------------+---------------+------------+----------------+----------------+-------------------+------------------+-----------------+----------+-------------+----------+---------------+----------+----------+---------------+---------------+---+-----------+------------+---------------+------------+----------------+----------------+-------------------+------------------+-----------------+----------+-------------+----------+---------------+----------+----------+---------------+---------------+\n",
      "+------+-----------+------------+---------------+------------+----------------+----------------+-------------------+------------------+-----------------+----------+-------------+----------+---------------+----------+----------+---------------+---------------+---+-----------+------------+---------------+------------+----------------+----------------+-------------------+------------------+-----------------+----------+-------------+----------+---------------+----------+----------+---------------+---------------+\n",
      "\n"
     ]
    }
   ],
   "source": [
    "df_result = df_gcp.join(df_local, df_gcp[\"gcp_ID\"] == df_local[\"ID\"], how='left')\n",
    "\n",
    "# filtro onde o ID da tabela local for nulo\n",
    "df_result = df_result.filter(F.col(\"ID\").isNull())\n",
    "\n",
    "df_result.show()"
   ]
  },
  {
   "cell_type": "markdown",
   "metadata": {},
   "source": [
    "Contagem de IDs duplicados no GCP e ordenação decrescente:"
   ]
  },
  {
   "cell_type": "code",
   "execution_count": 9,
   "metadata": {},
   "outputs": [
    {
     "name": "stdout",
     "output_type": "stream",
     "text": [
      "Número de IDs com mais de uma ocorrência: 3000\n",
      "+-------+--------+\n",
      "| gcp_ID|ID_Count|\n",
      "+-------+--------+\n",
      "|5008957|       2|\n",
      "|5009141|       2|\n",
      "|5009198|       2|\n",
      "|5009628|       2|\n",
      "|5010058|       2|\n",
      "|5010338|       2|\n",
      "|5010568|       2|\n",
      "|5010623|       2|\n",
      "|5010674|       2|\n",
      "|5010781|       2|\n",
      "|5010801|       2|\n",
      "|5010820|       2|\n",
      "|5018477|       2|\n",
      "|5021662|       2|\n",
      "|5021682|       2|\n",
      "|5021738|       2|\n",
      "|5021818|       2|\n",
      "|5021849|       2|\n",
      "|5021878|       2|\n",
      "|5021947|       2|\n",
      "+-------+--------+\n",
      "only showing top 20 rows\n",
      "\n"
     ]
    }
   ],
   "source": [
    "# agregação dos IDs que aparecem mais de uma vez\n",
    "df_grouped = df_gcp.groupBy(\"gcp_ID\").agg(count(\"gcp_ID\").alias(\"ID_Count\"))\n",
    "duplicated_ids = df_grouped.filter(col(\"ID_Count\") > 1)\n",
    "duplicate_count = duplicated_ids.count()\n",
    "print(\"Número de IDs com mais de uma ocorrência: {}\".format(duplicate_count))\n",
    "\n",
    "df_ordered = duplicated_ids.orderBy(col(\"ID_Count\").desc())\n",
    "df_ordered.show()"
   ]
  },
  {
   "cell_type": "markdown",
   "metadata": {},
   "source": [
    "Análise de padrão das diferenças encontradas:"
   ]
  },
  {
   "cell_type": "code",
   "execution_count": 17,
   "metadata": {},
   "outputs": [
    {
     "name": "stdout",
     "output_type": "stream",
     "text": [
      "+-------+-----------+------------+---------------+------------+----------------+--------------------+-------------------+--------------------+-------------------+----------+-------------+----------+---------------+----------+----------+---------------+---------------+------+-----------+------------+---------------+------------+----------------+----------------+-------------------+------------------+-----------------+----------+-------------+----------+---------------+----------+----------+---------------+---------------+\n",
      "|     ID|CODE_GENDER|FLAG_OWN_CAR|FLAG_OWN_REALTY|CNT_CHILDREN|AMT_INCOME_TOTAL|    NAME_INCOME_TYPE|NAME_EDUCATION_TYPE|  NAME_FAMILY_STATUS|  NAME_HOUSING_TYPE|DAYS_BIRTH|DAYS_EMPLOYED|FLAG_MOBIL|FLAG_WORK_PHONE|FLAG_PHONE|FLAG_EMAIL|OCCUPATION_TYPE|CNT_FAM_MEMBERS|gcp_ID|CODE_GENDER|FLAG_OWN_CAR|FLAG_OWN_REALTY|CNT_CHILDREN|AMT_INCOME_TOTAL|NAME_INCOME_TYPE|NAME_EDUCATION_TYPE|NAME_FAMILY_STATUS|NAME_HOUSING_TYPE|DAYS_BIRTH|DAYS_EMPLOYED|FLAG_MOBIL|FLAG_WORK_PHONE|FLAG_PHONE|FLAG_EMAIL|OCCUPATION_TYPE|CNT_FAM_MEMBERS|\n",
      "+-------+-----------+------------+---------------+------------+----------------+--------------------+-------------------+--------------------+-------------------+----------+-------------+----------+---------------+----------+----------+---------------+---------------+------+-----------+------------+---------------+------------+----------------+----------------+-------------------+------------------+-----------------+----------+-------------+----------+---------------+----------+----------+---------------+---------------+\n",
      "|5033986|          F|           N|              N|           0|        144000.0|           Pensioner|    Lower secondary|               Widow|Municipal apartment|    -21675|       365243|         1|              0|         0|         0|           null|            1.0|  null|       null|        null|           null|        null|            null|            null|               null|              null|             null|      null|         null|      null|           null|      null|      null|           null|           null|\n",
      "|5045921|          F|           N|              Y|           0|         40500.0|           Pensioner|    Lower secondary|             Married|  House / apartment|    -23933|       365243|         1|              0|         0|         0|           null|            2.0|  null|       null|        null|           null|        null|            null|            null|               null|              null|             null|      null|         null|      null|           null|      null|      null|           null|           null|\n",
      "|5052997|          F|           N|              Y|           0|         94500.0|           Pensioner|    Lower secondary|           Separated|  House / apartment|    -22926|       365243|         1|              0|         0|         0|           null|            1.0|  null|       null|        null|           null|        null|            null|            null|               null|              null|             null|      null|         null|      null|           null|      null|      null|           null|           null|\n",
      "|5087743|          F|           N|              Y|           0|        112500.0|           Pensioner|    Lower secondary|             Married|  House / apartment|    -24821|       365243|         1|              0|         0|         0|           null|            2.0|  null|       null|        null|           null|        null|            null|            null|               null|              null|             null|      null|         null|      null|           null|      null|      null|           null|           null|\n",
      "|5126743|          F|           N|              N|           0|        135000.0|             Working|    Lower secondary|             Married|   Rented apartment|    -19019|          -43|         1|              0|         0|         0|       Laborers|            2.0|  null|       null|        null|           null|        null|            null|            null|               null|              null|             null|      null|         null|      null|           null|      null|      null|           null|           null|\n",
      "|5260593|          F|           N|              N|           0|        225000.0|             Working|    Lower secondary|               Widow|  House / apartment|    -21811|        -2563|         1|              0|         0|         0|    Sales staff|            1.0|  null|       null|        null|           null|        null|            null|            null|               null|              null|             null|      null|         null|      null|           null|      null|      null|           null|           null|\n",
      "|5354898|          M|           Y|              Y|           1|        247500.0|             Working|    Lower secondary|             Married|  House / apartment|    -20950|         -196|         1|              0|         1|         0|       Laborers|            3.0|  null|       null|        null|           null|        null|            null|            null|               null|              null|             null|      null|         null|      null|           null|      null|      null|           null|           null|\n",
      "|5427531|          M|           N|              Y|           0|        135000.0|           Pensioner|    Lower secondary|             Married|  House / apartment|    -24210|       365243|         1|              0|         0|         0|           null|            2.0|  null|       null|        null|           null|        null|            null|            null|               null|              null|             null|      null|         null|      null|           null|      null|      null|           null|           null|\n",
      "|5467022|          F|           Y|              N|           0|        112500.0|Commercial associate|    Lower secondary|Single / not married|Municipal apartment|    -12824|         -701|         1|              0|         0|         0|    Sales staff|            1.0|  null|       null|        null|           null|        null|            null|            null|               null|              null|             null|      null|         null|      null|           null|      null|      null|           null|           null|\n",
      "|5501357|          M|           N|              Y|           0|        135000.0|             Working|    Lower secondary|      Civil marriage|  House / apartment|    -14550|         -516|         1|              1|         1|         0|       Laborers|            2.0|  null|       null|        null|           null|        null|            null|            null|               null|              null|             null|      null|         null|      null|           null|      null|      null|           null|           null|\n",
      "|5585006|          M|           N|              Y|           2|        112500.0|Commercial associate|    Lower secondary|             Married|  House / apartment|    -19742|        -4230|         1|              0|         1|         0|       Laborers|            4.0|  null|       null|        null|           null|        null|            null|            null|               null|              null|             null|      null|         null|      null|           null|      null|      null|           null|           null|\n",
      "|5702391|          M|           N|              N|           0|        112500.0|             Working|    Lower secondary|             Married|  House / apartment|    -10123|         -190|         1|              1|         1|         0|        Drivers|            2.0|  null|       null|        null|           null|        null|            null|            null|               null|              null|             null|      null|         null|      null|           null|      null|      null|           null|           null|\n",
      "|5742776|          F|           Y|              Y|           0|        135000.0|           Pensioner|    Lower secondary|             Married|  House / apartment|    -22486|       365243|         1|              0|         0|         0|           null|            2.0|  null|       null|        null|           null|        null|            null|            null|               null|              null|             null|      null|         null|      null|           null|      null|      null|           null|           null|\n",
      "|5872792|          F|           N|              Y|           0|        157500.0|           Pensioner|    Lower secondary|             Married|Municipal apartment|    -22941|       365243|         1|              0|         0|         0|           null|            2.0|  null|       null|        null|           null|        null|            null|            null|               null|              null|             null|      null|         null|      null|           null|      null|      null|           null|           null|\n",
      "|5970743|          F|           N|              N|           0|        126000.0|           Pensioner|    Lower secondary|               Widow|  House / apartment|    -21595|       365243|         1|              0|         0|         0|           null|            1.0|  null|       null|        null|           null|        null|            null|            null|               null|              null|             null|      null|         null|      null|           null|      null|      null|           null|           null|\n",
      "|6009146|          F|           N|              Y|           0|         60750.0|           Pensioner|    Lower secondary|               Widow|  House / apartment|    -22653|       365243|         1|              0|         0|         0|           null|            1.0|  null|       null|        null|           null|        null|            null|            null|               null|              null|             null|      null|         null|      null|           null|      null|      null|           null|           null|\n",
      "|6060382|          M|           N|              N|           4|        270000.0|             Working|    Lower secondary|             Married|  House / apartment|    -14200|         -467|         1|              1|         0|         0|           null|            6.0|  null|       null|        null|           null|        null|            null|            null|               null|              null|             null|      null|         null|      null|           null|      null|      null|           null|           null|\n",
      "|6077889|          M|           Y|              Y|           1|        202500.0|             Working|    Lower secondary|             Married|  House / apartment|    -14489|        -2377|         1|              0|         1|         0|        Drivers|            3.0|  null|       null|        null|           null|        null|            null|            null|               null|              null|             null|      null|         null|      null|           null|      null|      null|           null|           null|\n",
      "|6088956|          F|           N|              Y|           0|        202500.0|           Pensioner|    Lower secondary|Single / not married|  House / apartment|    -23232|       365243|         1|              0|         0|         1|           null|            1.0|  null|       null|        null|           null|        null|            null|            null|               null|              null|             null|      null|         null|      null|           null|      null|      null|           null|           null|\n",
      "|6103539|          F|           N|              Y|           1|        112500.0|       State servant|    Lower secondary|             Married|  House / apartment|    -19238|        -3509|         1|              0|         0|         0|     Core staff|            3.0|  null|       null|        null|           null|        null|            null|            null|               null|              null|             null|      null|         null|      null|           null|      null|      null|           null|           null|\n",
      "+-------+-----------+------------+---------------+------------+----------------+--------------------+-------------------+--------------------+-------------------+----------+-------------+----------+---------------+----------+----------+---------------+---------------+------+-----------+------------+---------------+------------+----------------+----------------+-------------------+------------------+-----------------+----------+-------------+----------+---------------+----------+----------+---------------+---------------+\n",
      "only showing top 20 rows\n",
      "\n"
     ]
    }
   ],
   "source": [
    "df_joined = df_local.join(df_gcp, df_local[\"ID\"] == df_gcp[\"gcp_ID\"], how='full_outer')\n",
    "\n",
    "df_divergencias = df_joined.filter((F.col(\"ID\").isNull()) | (F.col(\"gcp_ID\").isNull()))\n",
    "\n",
    "df_divergencias.show()"
   ]
  },
  {
   "cell_type": "markdown",
   "metadata": {},
   "source": [
    "Filtro usado para encontrar quais colunas apresentavam diferenças:"
   ]
  },
  {
   "cell_type": "code",
   "execution_count": 28,
   "metadata": {},
   "outputs": [
    {
     "name": "stdout",
     "output_type": "stream",
     "text": [
      "+-------+--------------------+------------------+-------------------------+-----------------------+-------------------+-----------------+------------------------+----------------------+------------------------+----------------------+\n",
      "|     ID|tb_local_CODE_GENDER|tb_gcp_CODE_GENDER|tb_local_AMT_INCOME_TOTAL|tb_gcp_AMT_INCOME_TOTAL|tb_local_DAYS_BIRTH|tb_gcp_DAYS_BIRTH|tb_local_FLAG_WORK_PHONE|tb_gcp_FLAG_WORK_PHONE|tb_local_OCCUPATION_TYPE|tb_gcp_OCCUPATION_TYPE|\n",
      "+-------+--------------------+------------------+-------------------------+-----------------------+-------------------+-----------------+------------------------+----------------------+------------------------+----------------------+\n",
      "|5008895|                   F|            Female|                 297000.0|             29700000.0|             -15519|            15519|                       0|                  null|                Laborers|              Laborers|\n",
      "|5009246|                   F|            Female|                 135000.0|             13500000.0|             -14201|            14201|                       0|                   0.0|                    null|    Without Occupation|\n",
      "|5009335|                   F|            Female|                 139500.0|             13950000.0|             -16203|            16203|                       0|                  null|                Managers|              Managers|\n",
      "|5009766|                   M|              Male|                 135000.0|             13500000.0|             -14118|            14118|                       0|                  null|                Laborers|              Laborers|\n",
      "|5009999|                   F|            Female|                 157500.0|             15750000.0|             -12330|            12330|                       0|                   0.0|             Accountants|           Accountants|\n",
      "|5010368|                   F|            Female|                 157500.0|             15750000.0|              -9800|             9800|                       0|                  null|          Medicine staff|        Medicine staff|\n",
      "|5010949|                   F|            Female|                 270000.0|             27000000.0|             -13768|            13768|                       0|                  null|                Managers|              Managers|\n",
      "|5021309|                   M|              Male|                 270000.0|             27000000.0|             -16896|            16896|                       0|                  null|                Laborers|              Laborers|\n",
      "|5021967|                   F|            Female|                 103500.0|             10350000.0|             -11720|            11720|                       0|                  null|             Sales staff|           Sales staff|\n",
      "|5022410|                   F|            Female|                 153000.0|             15300000.0|             -21899|            21899|                       0|                   0.0|                    null|    Without Occupation|\n",
      "|5022555|                   F|            Female|                 112500.0|             11250000.0|             -11234|            11234|                       0|                   0.0|             Sales staff|           Sales staff|\n",
      "|5022720|                   M|              Male|                 157500.0|             15750000.0|             -15202|            15202|                       0|                  null|                 Drivers|               Drivers|\n",
      "|5022759|                   F|            Female|                 180000.0|             18000000.0|              -9791|             9791|                       0|                  null|             Sales staff|           Sales staff|\n",
      "|5022800|                   F|            Female|                 202500.0|             20250000.0|             -11998|            11998|                       0|                  null|                Managers|              Managers|\n",
      "|5022836|                   M|              Male|                 202500.0|             20250000.0|             -17262|            17262|                       0|                  null|              Core staff|            Core staff|\n",
      "|5022988|                   F|            Female|                  76500.0|              7650000.0|             -24311|            24311|                       0|                   0.0|                    null|    Without Occupation|\n",
      "|5023261|                   M|              Male|                 180000.0|             18000000.0|             -21202|            21202|                       0|                  null|                 Drivers|               Drivers|\n",
      "|5023441|                   F|            Female|                 180000.0|             18000000.0|             -22730|            22730|                       1|                   1.0|             Sales staff|           Sales staff|\n",
      "|5023454|                   F|            Female|                 180000.0|             18000000.0|             -20560|            20560|                       0|                  null|             Sales staff|           Sales staff|\n",
      "|5023617|                   F|            Female|                 157500.0|             15750000.0|             -10806|            10806|                       0|                  null|                Managers|              Managers|\n",
      "+-------+--------------------+------------------+-------------------------+-----------------------+-------------------+-----------------+------------------------+----------------------+------------------------+----------------------+\n",
      "only showing top 20 rows\n",
      "\n"
     ]
    }
   ],
   "source": [
    "# retira os registros duplicados\n",
    "df_gcp = df_gcp.dropDuplicates()\n",
    "\n",
    "#join com condições\n",
    "joined = df_local.join(df_gcp, (\n",
    "    (df_local[\"ID\"] == df_gcp[\"gcp_ID\"]) &\n",
    "    (df_local.FLAG_OWN_CAR == df_gcp.FLAG_OWN_CAR) &\n",
    "    (df_local.FLAG_OWN_REALTY == df_gcp.FLAG_OWN_REALTY) &\n",
    "    (df_local.CNT_CHILDREN == df_gcp.CNT_CHILDREN) &\n",
    "    (df_local.NAME_INCOME_TYPE == df_gcp.NAME_INCOME_TYPE) &\n",
    "    (df_local.NAME_EDUCATION_TYPE == df_gcp.NAME_EDUCATION_TYPE) &\n",
    "    (df_local.NAME_FAMILY_STATUS == df_gcp.NAME_FAMILY_STATUS) &\n",
    "    (df_local.NAME_HOUSING_TYPE == df_gcp.NAME_HOUSING_TYPE) &\n",
    "    (df_local.DAYS_EMPLOYED == df_gcp.DAYS_EMPLOYED) &\n",
    "    (df_local.FLAG_MOBIL == df_gcp.FLAG_MOBIL) &\n",
    "    (df_local.FLAG_PHONE == df_gcp.FLAG_PHONE) &\n",
    "    (df_local.FLAG_EMAIL == df_gcp.FLAG_EMAIL) &\n",
    "    (df_local.CNT_FAM_MEMBERS == df_gcp.CNT_FAM_MEMBERS)\n",
    "), \"left\")\n",
    "\n",
    "filtered = joined.filter(col(\"gcp_ID\").isNotNull())\n",
    "\n",
    "#selecionar somente as colunas com divergência\n",
    "df_selected = filtered.select(\n",
    "    df_local[\"ID\"],\n",
    "    df_local[\"CODE_GENDER\"].alias(\"tb_local_CODE_GENDER\"),\n",
    "    df_gcp[\"CODE_GENDER\"].alias(\"tb_gcp_CODE_GENDER\"),\n",
    "    df_local[\"AMT_INCOME_TOTAL\"].alias(\"tb_local_AMT_INCOME_TOTAL\"),\n",
    "    df_gcp[\"AMT_INCOME_TOTAL\"].alias(\"tb_gcp_AMT_INCOME_TOTAL\"),\n",
    "    df_local[\"DAYS_BIRTH\"].alias(\"tb_local_DAYS_BIRTH\"),\n",
    "    df_gcp[\"DAYS_BIRTH\"].alias(\"tb_gcp_DAYS_BIRTH\"),\n",
    "    df_local[\"FLAG_WORK_PHONE\"].alias(\"tb_local_FLAG_WORK_PHONE\"),\n",
    "    df_gcp[\"FLAG_WORK_PHONE\"].alias(\"tb_gcp_FLAG_WORK_PHONE\"),\n",
    "    df_local[\"OCCUPATION_TYPE\"].alias(\"tb_local_OCCUPATION_TYPE\"),\n",
    "    df_gcp[\"OCCUPATION_TYPE\"].alias(\"tb_gcp_OCCUPATION_TYPE\")\n",
    ")\n",
    "\n",
    "df_selected.show()"
   ]
  },
  {
   "cell_type": "markdown",
   "metadata": {},
   "source": [
    "Transformação das tabelas do GCP divergentes da tabela local:"
   ]
  },
  {
   "cell_type": "code",
   "execution_count": 23,
   "metadata": {},
   "outputs": [
    {
     "name": "stdout",
     "output_type": "stream",
     "text": [
      "+-------+-----------+------------+---------------+------------+----------------+--------------------+--------------------+--------------------+-----------------+----------+-------------+----------+---------------+----------+----------+---------------+---------------+\n",
      "|     ID|CODE_GENDER|FLAG_OWN_CAR|FLAG_OWN_REALTY|CNT_CHILDREN|AMT_INCOME_TOTAL|    NAME_INCOME_TYPE| NAME_EDUCATION_TYPE|  NAME_FAMILY_STATUS|NAME_HOUSING_TYPE|DAYS_BIRTH|DAYS_EMPLOYED|FLAG_MOBIL|FLAG_WORK_PHONE|FLAG_PHONE|FLAG_EMAIL|OCCUPATION_TYPE|CNT_FAM_MEMBERS|\n",
      "+-------+-----------+------------+---------------+------------+----------------+--------------------+--------------------+--------------------+-----------------+----------+-------------+----------+---------------+----------+----------+---------------+---------------+\n",
      "|6153775|          F|           N|              Y|           0|        297000.0|Commercial associate|Secondary / secon...|Single / not married| Rented apartment|  -15519.0|        -3234|         1|           null|         0|         0|       Laborers|            1.0|\n",
      "|5008947|          M|           N|              Y|           0|        135000.0|             Working|Secondary / secon...|             Married|House / apartment|  -15484.0|        -1408|         1|            1.0|         1|         0|        Drivers|            2.0|\n",
      "|5009232|          F|           Y|              N|           0|        225000.0|             Working|Secondary / secon...|             Married|House / apartment|  -14667.0|         -798|         1|           null|         0|         0|       Managers|            2.0|\n",
      "|5009264|          F|           N|              N|           0|         40500.0|           Pensioner|Secondary / secon...|Single / not married|House / apartment|  -21091.0|       365243|         1|           null|         0|         0|               |            1.0|\n",
      "|5009336|          F|           N|              N|           0|        139500.0|             Working|    Higher education|           Separated|House / apartment|  -16203.0|        -7100|         1|           null|         0|         0|       Managers|            1.0|\n",
      "|5009582|          F|           N|              N|           0|         90000.0|             Working|Secondary / secon...|           Separated|House / apartment|  -11682.0|         -678|         1|           null|         0|         0|    Sales staff|            1.0|\n",
      "|6153702|          F|           N|              N|           1|        202500.0|             Working|Secondary / secon...|             Married|House / apartment|  -11813.0|        -3266|         1|            1.0|         1|         0|    Sales staff|            3.0|\n",
      "|5009837|          F|           N|              N|           0|        135000.0|       State servant|Secondary / secon...|      Civil marriage|House / apartment|  -13120.0|        -5578|         1|           null|         0|         0| Medicine staff|            2.0|\n",
      "|5010005|          M|           Y|              Y|           0|        157500.0|           Pensioner|Secondary / secon...|             Married|House / apartment|  -23322.0|       365243|         1|           null|         0|         0|               |            2.0|\n",
      "|5010313|          F|           Y|              Y|           1|        112500.0|Commercial associate|Secondary / secon...|             Married|House / apartment|  -15109.0|        -1956|         1|           null|         0|         0|     Core staff|            3.0|\n",
      "|5010613|          F|           N|              Y|           0|        184500.0|             Working|Secondary / secon...|             Married|House / apartment|  -18551.0|        -1226|         1|           null|         0|         0| Cleaning staff|            2.0|\n",
      "|5018451|          F|           N|              Y|           1|        675000.0|Commercial associate|    Higher education|             Married|House / apartment|  -15843.0|        -1398|         1|            0.0|         1|         0|    Sales staff|            3.0|\n",
      "|5113087|          M|           N|              Y|           0|        270000.0|             Working|Secondary / secon...|             Married|House / apartment|  -16896.0|         -248|         1|           null|         0|         0|       Laborers|            2.0|\n",
      "|5021358|          F|           N|              Y|           2|         67500.0|       State servant|   Incomplete higher|             Married|     With parents|  -13259.0|         -213|         1|           null|         0|         0|     Core staff|            4.0|\n",
      "|5021375|          F|           N|              Y|           0|        247500.0|             Working|    Higher education|             Married|House / apartment|  -22100.0|         -578|         1|           null|         0|         1|       Managers|            2.0|\n",
      "|5021385|          F|           N|              Y|           1|        121500.0|             Working|    Higher education|             Married|House / apartment|  -11007.0|         -762|         1|           null|         0|         0|               |            3.0|\n",
      "|6423372|          M|           N|              Y|           0|        135000.0|             Working|Secondary / secon...|Single / not married|House / apartment|  -10682.0|         -609|         1|            0.0|         1|         0|    Sales staff|            1.0|\n",
      "|5021605|          F|           N|              Y|           0|        225000.0|       State servant|    Higher education|             Married|House / apartment|  -19309.0|        -2435|         1|            0.0|         1|         0|               |            2.0|\n",
      "|5022013|          M|           Y|              Y|           0|        112500.0|             Working|Secondary / secon...|Single / not married|House / apartment|   -9952.0|        -1613|         1|           null|         0|         0|               |            1.0|\n",
      "|5022015|          M|           Y|              Y|           0|        112500.0|             Working|Secondary / secon...|Single / not married|House / apartment|   -9952.0|        -1613|         1|           null|         0|         0|               |            1.0|\n",
      "+-------+-----------+------------+---------------+------------+----------------+--------------------+--------------------+--------------------+-----------------+----------+-------------+----------+---------------+----------+----------+---------------+---------------+\n",
      "only showing top 20 rows\n",
      "\n"
     ]
    }
   ],
   "source": [
    "df_transformed = df_gcp.select(\n",
    "    col(\"gcp_ID\").alias(\"ID\"),\n",
    "    when(col(\"CODE_GENDER\") == \"Male\", \"M\")\n",
    "    .when(col(\"CODE_GENDER\") == \"Female\", \"F\")\n",
    "    .otherwise(None).alias(\"CODE_GENDER\"),\n",
    "    col(\"FLAG_OWN_CAR\"),\n",
    "    col(\"FLAG_OWN_REALTY\"),\n",
    "    col(\"CNT_CHILDREN\"),\n",
    "    (col(\"AMT_INCOME_TOTAL\") / 100).alias(\"AMT_INCOME_TOTAL\"),\n",
    "    col(\"NAME_INCOME_TYPE\"),\n",
    "    col(\"NAME_EDUCATION_TYPE\"),\n",
    "    col(\"NAME_FAMILY_STATUS\"),\n",
    "    col(\"NAME_HOUSING_TYPE\"),\n",
    "    (col(\"DAYS_BIRTH\") * -1).alias(\"DAYS_BIRTH\"),\n",
    "    col(\"DAYS_EMPLOYED\"),\n",
    "    col(\"FLAG_MOBIL\"),\n",
    "    col(\"FLAG_WORK_PHONE\"),\n",
    "    col(\"FLAG_PHONE\"),\n",
    "    col(\"FLAG_EMAIL\"),\n",
    "    when(col(\"OCCUPATION_TYPE\") == \"Without Occupation\", \"\")\n",
    "    .otherwise(col(\"OCCUPATION_TYPE\")).alias(\"OCCUPATION_TYPE\"),\n",
    "    col(\"CNT_FAM_MEMBERS\")\n",
    ").distinct()\n",
    "\n",
    "df_transformed.show()\n"
   ]
  }
 ],
 "metadata": {
  "kernelspec": {
   "display_name": "Python 3",
   "language": "python",
   "name": "python3"
  },
  "language_info": {
   "codemirror_mode": {
    "name": "ipython",
    "version": 2
   },
   "file_extension": ".py",
   "mimetype": "text/x-python",
   "name": "python",
   "nbconvert_exporter": "python",
   "pygments_lexer": "ipython2",
   "version": "2.7.17"
  }
 },
 "nbformat": 4,
 "nbformat_minor": 2
}
