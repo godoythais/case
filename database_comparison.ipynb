{
 "cells": [
  {
   "cell_type": "code",
   "execution_count": 3,
   "metadata": {},
   "outputs": [],
   "source": [
    "from collections import defaultdict\n",
    "from pyspark.sql import SparkSession\n",
    "from pyspark.sql.functions import col\n",
    "from pyspark.sql import SparkSession\n",
    "from pyspark.sql import functions as F\n",
    "from pyspark.sql.functions import col, count, when"
   ]
  },
  {
   "cell_type": "markdown",
   "metadata": {},
   "source": [
    "Lendo os arquivos csv como dataframes, troca do nome da coluna ID na tabela GCP para evitar ambiguidade.\n",
    "\n",
    "Verificando a quantidade de linhas da tabela e suas diferenças:"
   ]
  },
  {
   "cell_type": "code",
   "execution_count": 4,
   "metadata": {},
   "outputs": [
    {
     "name": "stderr",
     "output_type": "stream",
     "text": [
      "25/01/14 14:09:55 WARN Utils: Your hostname, twadmin-Lenovo-IdeaPad-S145-15IWL resolves to a loopback address: 127.0.1.1; using 192.168.100.9 instead (on interface wlp2s0)\n",
      "25/01/14 14:09:55 WARN Utils: Set SPARK_LOCAL_IP if you need to bind to another address\n",
      "Setting default log level to \"WARN\".\n",
      "To adjust logging level use sc.setLogLevel(newLevel). For SparkR, use setLogLevel(newLevel).\n",
      "25/01/14 14:09:56 WARN NativeCodeLoader: Unable to load native-hadoop library for your platform... using builtin-java classes where applicable\n",
      "[Stage 5:>                                                          (0 + 8) / 8]\r"
     ]
    },
    {
     "name": "stdout",
     "output_type": "stream",
     "text": [
      "TB_LOCAL: 438510\n",
      "TB_GCP: 437459\n",
      "DIFERENCA: 1051\n"
     ]
    },
    {
     "name": "stderr",
     "output_type": "stream",
     "text": [
      "                                                                                \r"
     ]
    }
   ],
   "source": [
    "spark = SparkSession.builder.appName(\"Query\").getOrCreate()\n",
    "\n",
    "file_name_local = 'application_record_local'\n",
    "df_local = spark.read.csv(file_name_local + \".csv\", header=True, sep=\";\", encoding=\"latin1\")\n",
    "\n",
    "file_name_gcp = 'application_record_gcp'\n",
    "df_gcp = spark.read.csv(file_name_gcp + \".csv\", header=True, sep=\",\", encoding=\"latin1\")\n",
    "df_gcp = df_gcp.withColumnRenamed(\"ID\", \"gcp_ID\")\n",
    "\n",
    "# Contando o número de registros\n",
    "df_local_count = df_local.count()\n",
    "df_gcp_count = df_gcp.count()\n",
    "\n",
    "# Diferenças entre os data frames\n",
    "diferenca = df_local_count - df_gcp_count\n",
    "\n",
    "resultado = {\n",
    "    'TB_LOCAL': df_local_count,\n",
    "    'TB_GCP': df_gcp_count,\n",
    "    'DIFERENCA': diferenca\n",
    "}\n",
    "\n",
    "for chave, valor in resultado.items():\n",
    "    print('{}: {}'.format(chave, valor))"
   ]
  },
  {
   "cell_type": "markdown",
   "metadata": {},
   "source": [
    "Verificando a quantidade de IDs distintos da tabela e suas diferenças:"
   ]
  },
  {
   "cell_type": "code",
   "execution_count": 5,
   "metadata": {},
   "outputs": [
    {
     "name": "stderr",
     "output_type": "stream",
     "text": [
      "[Stage 16:>                                                         (0 + 3) / 3]\r"
     ]
    },
    {
     "name": "stdout",
     "output_type": "stream",
     "text": [
      "TB_LOCAL_DISTINCT: 438510\n",
      "TB_GCP_DISTINCT: 434459\n",
      "DIFERENCA_ID_DISTINTOS: 4051\n"
     ]
    },
    {
     "name": "stderr",
     "output_type": "stream",
     "text": [
      "                                                                                \r"
     ]
    }
   ],
   "source": [
    "df_local_distinct_count = df_local.select(\"ID\").distinct().count()\n",
    "df_gcp_distinct_count = df_gcp.select(\"gcp_ID\").distinct().count()\n",
    "diferenca_id_distintos = df_local_distinct_count - df_gcp_distinct_count\n",
    "\n",
    "resultado = {\n",
    "    'TB_LOCAL_DISTINCT': df_local_distinct_count,\n",
    "    'TB_GCP_DISTINCT': df_gcp_distinct_count,\n",
    "    'DIFERENCA_ID_DISTINTOS': diferenca_id_distintos\n",
    "}\n",
    "\n",
    "for chave, valor in resultado.items():\n",
    "    print('{}: {}'.format(chave, valor))"
   ]
  },
  {
   "cell_type": "markdown",
   "metadata": {},
   "source": [
    "Lista de IDs que tem na tabela local e não na GCP:"
   ]
  },
  {
   "cell_type": "code",
   "execution_count": 6,
   "metadata": {},
   "outputs": [
    {
     "name": "stderr",
     "output_type": "stream",
     "text": [
      "25/01/14 14:11:21 WARN SparkStringUtils: Truncated the string representation of a plan since it was too large. This behavior can be adjusted by setting 'spark.sql.debug.maxToStringFields'.\n",
      "                                                                                \r"
     ]
    },
    {
     "name": "stdout",
     "output_type": "stream",
     "text": [
      "+-------+-----------+------------+---------------+------------+----------------+--------------------+-------------------+--------------------+-------------------+----------+-------------+----------+---------------+----------+----------+---------------+---------------+------+-----------+------------+---------------+------------+----------------+----------------+-------------------+------------------+-----------------+----------+-------------+----------+---------------+----------+----------+---------------+---------------+\n",
      "|     ID|CODE_GENDER|FLAG_OWN_CAR|FLAG_OWN_REALTY|CNT_CHILDREN|AMT_INCOME_TOTAL|    NAME_INCOME_TYPE|NAME_EDUCATION_TYPE|  NAME_FAMILY_STATUS|  NAME_HOUSING_TYPE|DAYS_BIRTH|DAYS_EMPLOYED|FLAG_MOBIL|FLAG_WORK_PHONE|FLAG_PHONE|FLAG_EMAIL|OCCUPATION_TYPE|CNT_FAM_MEMBERS|gcp_ID|CODE_GENDER|FLAG_OWN_CAR|FLAG_OWN_REALTY|CNT_CHILDREN|AMT_INCOME_TOTAL|NAME_INCOME_TYPE|NAME_EDUCATION_TYPE|NAME_FAMILY_STATUS|NAME_HOUSING_TYPE|DAYS_BIRTH|DAYS_EMPLOYED|FLAG_MOBIL|FLAG_WORK_PHONE|FLAG_PHONE|FLAG_EMAIL|OCCUPATION_TYPE|CNT_FAM_MEMBERS|\n",
      "+-------+-----------+------------+---------------+------------+----------------+--------------------+-------------------+--------------------+-------------------+----------+-------------+----------+---------------+----------+----------+---------------+---------------+------+-----------+------------+---------------+------------+----------------+----------------+-------------------+------------------+-----------------+----------+-------------+----------+---------------+----------+----------+---------------+---------------+\n",
      "|5009354|          M|           N|              N|           0|        180000.0|Commercial associate|    Lower secondary|             Married|  House / apartment|    -21155|         -130|         1|              0|         1|         0|        Drivers|            2.0|  NULL|       NULL|        NULL|           NULL|        NULL|            NULL|            NULL|               NULL|              NULL|             NULL|      NULL|         NULL|      NULL|           NULL|      NULL|      NULL|           NULL|           NULL|\n",
      "|5010199|          M|           Y|              Y|           0|        135000.0|             Working|    Lower secondary|             Married|       With parents|     -9981|        -1866|         1|              0|         0|         1|       Laborers|            2.0|  NULL|       NULL|        NULL|           NULL|        NULL|            NULL|            NULL|               NULL|              NULL|             NULL|      NULL|         NULL|      NULL|           NULL|      NULL|      NULL|           NULL|           NULL|\n",
      "|5010201|          M|           Y|              Y|           0|        135000.0|             Working|    Lower secondary|             Married|       With parents|     -9981|        -1866|         1|              0|         0|         1|       Laborers|            2.0|  NULL|       NULL|        NULL|           NULL|        NULL|            NULL|            NULL|               NULL|              NULL|             NULL|      NULL|         NULL|      NULL|           NULL|      NULL|      NULL|           NULL|           NULL|\n",
      "|5010205|          M|           Y|              Y|           0|        135000.0|             Working|    Lower secondary|             Married|       With parents|     -9981|        -1866|         1|              0|         0|         1|       Laborers|            2.0|  NULL|       NULL|        NULL|           NULL|        NULL|            NULL|            NULL|               NULL|              NULL|             NULL|      NULL|         NULL|      NULL|           NULL|      NULL|      NULL|           NULL|           NULL|\n",
      "|5018483|          F|           N|              Y|           0|         90000.0|           Pensioner|    Lower secondary|             Married|  House / apartment|    -22319|       365243|         1|              0|         1|         0|           NULL|            2.0|  NULL|       NULL|        NULL|           NULL|        NULL|            NULL|            NULL|               NULL|              NULL|             NULL|      NULL|         NULL|      NULL|           NULL|      NULL|      NULL|           NULL|           NULL|\n",
      "|5021709|          F|           N|              Y|           2|        202500.0|             Working|    Lower secondary|             Married|  House / apartment|    -13483|        -5204|         1|              0|         0|         1|       Laborers|            4.0|  NULL|       NULL|        NULL|           NULL|        NULL|            NULL|            NULL|               NULL|              NULL|             NULL|      NULL|         NULL|      NULL|           NULL|      NULL|      NULL|           NULL|           NULL|\n",
      "|5023079|          F|           N|              Y|           0|         81000.0|           Pensioner|    Lower secondary|             Married|  House / apartment|    -21801|       365243|         1|              0|         0|         0|           NULL|            2.0|  NULL|       NULL|        NULL|           NULL|        NULL|            NULL|            NULL|               NULL|              NULL|             NULL|      NULL|         NULL|      NULL|           NULL|      NULL|      NULL|           NULL|           NULL|\n",
      "|5024922|          M|           N|              Y|           0|        180000.0|             Working|    Lower secondary|Single / not married|  House / apartment|    -14663|        -1188|         1|              0|         0|         0|        Drivers|            1.0|  NULL|       NULL|        NULL|           NULL|        NULL|            NULL|            NULL|               NULL|              NULL|             NULL|      NULL|         NULL|      NULL|           NULL|      NULL|      NULL|           NULL|           NULL|\n",
      "|5025821|          F|           N|              Y|           0|        202500.0|           Pensioner|    Lower secondary|Single / not married|  House / apartment|    -21304|       365243|         1|              0|         0|         0|           NULL|            1.0|  NULL|       NULL|        NULL|           NULL|        NULL|            NULL|            NULL|               NULL|              NULL|             NULL|      NULL|         NULL|      NULL|           NULL|      NULL|      NULL|           NULL|           NULL|\n",
      "|5025826|          F|           N|              Y|           0|        202500.0|           Pensioner|    Lower secondary|Single / not married|  House / apartment|    -21304|       365243|         1|              0|         0|         0|           NULL|            1.0|  NULL|       NULL|        NULL|           NULL|        NULL|            NULL|            NULL|               NULL|              NULL|             NULL|      NULL|         NULL|      NULL|           NULL|      NULL|      NULL|           NULL|           NULL|\n",
      "|5025831|          F|           N|              Y|           0|        202500.0|           Pensioner|    Lower secondary|Single / not married|  House / apartment|    -21304|       365243|         1|              0|         0|         0|           NULL|            1.0|  NULL|       NULL|        NULL|           NULL|        NULL|            NULL|            NULL|               NULL|              NULL|             NULL|      NULL|         NULL|      NULL|           NULL|      NULL|      NULL|           NULL|           NULL|\n",
      "|5026542|          M|           N|              Y|           1|        202500.0|             Working|    Lower secondary|Single / not married|  House / apartment|    -16396|        -2783|         1|              1|         1|         0|           NULL|            2.0|  NULL|       NULL|        NULL|           NULL|        NULL|            NULL|            NULL|               NULL|              NULL|             NULL|      NULL|         NULL|      NULL|           NULL|      NULL|      NULL|           NULL|           NULL|\n",
      "|5028462|          M|           N|              Y|           0|        225000.0|             Working|    Lower secondary|             Married|Municipal apartment|    -10565|         -811|         1|              1|         1|         0|           NULL|            2.0|  NULL|       NULL|        NULL|           NULL|        NULL|            NULL|            NULL|               NULL|              NULL|             NULL|      NULL|         NULL|      NULL|           NULL|      NULL|      NULL|           NULL|           NULL|\n",
      "|5028464|          M|           N|              Y|           0|        225000.0|             Working|    Lower secondary|             Married|Municipal apartment|    -10565|         -811|         1|              1|         1|         0|           NULL|            2.0|  NULL|       NULL|        NULL|           NULL|        NULL|            NULL|            NULL|               NULL|              NULL|             NULL|      NULL|         NULL|      NULL|           NULL|      NULL|      NULL|           NULL|           NULL|\n",
      "|5028899|          M|           Y|              Y|           0|        270000.0|             Working|    Lower secondary|           Separated|  House / apartment|    -19164|        -3825|         1|              1|         0|         0|       Laborers|            1.0|  NULL|       NULL|        NULL|           NULL|        NULL|            NULL|            NULL|               NULL|              NULL|             NULL|      NULL|         NULL|      NULL|           NULL|      NULL|      NULL|           NULL|           NULL|\n",
      "|5029594|          F|           N|              Y|           1|        139500.0|           Pensioner|    Lower secondary|             Married|  House / apartment|    -21735|       365243|         1|              0|         0|         0|           NULL|            3.0|  NULL|       NULL|        NULL|           NULL|        NULL|            NULL|            NULL|               NULL|              NULL|             NULL|      NULL|         NULL|      NULL|           NULL|      NULL|      NULL|           NULL|           NULL|\n",
      "|5029596|          F|           N|              Y|           1|        139500.0|           Pensioner|    Lower secondary|             Married|  House / apartment|    -21735|       365243|         1|              0|         0|         0|           NULL|            3.0|  NULL|       NULL|        NULL|           NULL|        NULL|            NULL|            NULL|               NULL|              NULL|             NULL|      NULL|         NULL|      NULL|           NULL|      NULL|      NULL|           NULL|           NULL|\n",
      "|5033475|          M|           Y|              N|           0|        180000.0|             Working|    Lower secondary|             Married|  House / apartment|    -21054|        -4463|         1|              1|         1|         0|     Core staff|            2.0|  NULL|       NULL|        NULL|           NULL|        NULL|            NULL|            NULL|               NULL|              NULL|             NULL|      NULL|         NULL|      NULL|           NULL|      NULL|      NULL|           NULL|           NULL|\n",
      "|5033986|          F|           N|              N|           0|        144000.0|           Pensioner|    Lower secondary|               Widow|Municipal apartment|    -21675|       365243|         1|              0|         0|         0|           NULL|            1.0|  NULL|       NULL|        NULL|           NULL|        NULL|            NULL|            NULL|               NULL|              NULL|             NULL|      NULL|         NULL|      NULL|           NULL|      NULL|      NULL|           NULL|           NULL|\n",
      "|5035701|          F|           N|              Y|           0|        112500.0|       State servant|    Lower secondary|             Married|  House / apartment|    -19814|        -2656|         1|              0|         0|         0|       Laborers|            2.0|  NULL|       NULL|        NULL|           NULL|        NULL|            NULL|            NULL|               NULL|              NULL|             NULL|      NULL|         NULL|      NULL|           NULL|      NULL|      NULL|           NULL|           NULL|\n",
      "+-------+-----------+------------+---------------+------------+----------------+--------------------+-------------------+--------------------+-------------------+----------+-------------+----------+---------------+----------+----------+---------------+---------------+------+-----------+------------+---------------+------------+----------------+----------------+-------------------+------------------+-----------------+----------+-------------+----------+---------------+----------+----------+---------------+---------------+\n",
      "only showing top 20 rows\n",
      "\n"
     ]
    }
   ],
   "source": [
    "df_result = df_local.join(df_gcp, df_local[\"ID\"] == df_gcp[\"gcp_ID\"], how='left')\n",
    "\n",
    "# Filtro onde o ID da tabela gcp for nulo\n",
    "df_result = df_result.filter(F.col(\"gcp_ID\").isNull())\n",
    "\n",
    "df_result.show()"
   ]
  },
  {
   "cell_type": "markdown",
   "metadata": {},
   "source": [
    "Lista de IDs que tem na tabela GCP e não na local:"
   ]
  },
  {
   "cell_type": "code",
   "execution_count": 7,
   "metadata": {},
   "outputs": [
    {
     "name": "stderr",
     "output_type": "stream",
     "text": [
      "                                                                                \r"
     ]
    },
    {
     "name": "stdout",
     "output_type": "stream",
     "text": [
      "+------+-----------+------------+---------------+------------+----------------+----------------+-------------------+------------------+-----------------+----------+-------------+----------+---------------+----------+----------+---------------+---------------+---+-----------+------------+---------------+------------+----------------+----------------+-------------------+------------------+-----------------+----------+-------------+----------+---------------+----------+----------+---------------+---------------+\n",
      "|gcp_ID|CODE_GENDER|FLAG_OWN_CAR|FLAG_OWN_REALTY|CNT_CHILDREN|AMT_INCOME_TOTAL|NAME_INCOME_TYPE|NAME_EDUCATION_TYPE|NAME_FAMILY_STATUS|NAME_HOUSING_TYPE|DAYS_BIRTH|DAYS_EMPLOYED|FLAG_MOBIL|FLAG_WORK_PHONE|FLAG_PHONE|FLAG_EMAIL|OCCUPATION_TYPE|CNT_FAM_MEMBERS| ID|CODE_GENDER|FLAG_OWN_CAR|FLAG_OWN_REALTY|CNT_CHILDREN|AMT_INCOME_TOTAL|NAME_INCOME_TYPE|NAME_EDUCATION_TYPE|NAME_FAMILY_STATUS|NAME_HOUSING_TYPE|DAYS_BIRTH|DAYS_EMPLOYED|FLAG_MOBIL|FLAG_WORK_PHONE|FLAG_PHONE|FLAG_EMAIL|OCCUPATION_TYPE|CNT_FAM_MEMBERS|\n",
      "+------+-----------+------------+---------------+------------+----------------+----------------+-------------------+------------------+-----------------+----------+-------------+----------+---------------+----------+----------+---------------+---------------+---+-----------+------------+---------------+------------+----------------+----------------+-------------------+------------------+-----------------+----------+-------------+----------+---------------+----------+----------+---------------+---------------+\n",
      "+------+-----------+------------+---------------+------------+----------------+----------------+-------------------+------------------+-----------------+----------+-------------+----------+---------------+----------+----------+---------------+---------------+---+-----------+------------+---------------+------------+----------------+----------------+-------------------+------------------+-----------------+----------+-------------+----------+---------------+----------+----------+---------------+---------------+\n",
      "\n"
     ]
    },
    {
     "name": "stderr",
     "output_type": "stream",
     "text": [
      "                                                                                \r"
     ]
    }
   ],
   "source": [
    "df_result = df_gcp.join(df_local, df_gcp[\"gcp_ID\"] == df_local[\"ID\"], how='left')\n",
    "\n",
    "# Filtro onde o ID da tabela local for nulo\n",
    "df_result = df_result.filter(F.col(\"ID\").isNull())\n",
    "\n",
    "df_result.show()"
   ]
  },
  {
   "cell_type": "markdown",
   "metadata": {},
   "source": [
    "Contagem de IDs duplicados no GCP e ordenação decrescente:"
   ]
  },
  {
   "cell_type": "code",
   "execution_count": 8,
   "metadata": {},
   "outputs": [
    {
     "name": "stderr",
     "output_type": "stream",
     "text": [
      "                                                                                \r"
     ]
    },
    {
     "name": "stdout",
     "output_type": "stream",
     "text": [
      "Número de IDs com mais de uma ocorrência: 3000\n"
     ]
    },
    {
     "name": "stderr",
     "output_type": "stream",
     "text": [
      "[Stage 42:==============>                                           (2 + 6) / 8]\r"
     ]
    },
    {
     "name": "stdout",
     "output_type": "stream",
     "text": [
      "+-------+--------+\n",
      "| gcp_ID|ID_Count|\n",
      "+-------+--------+\n",
      "|5009208|       2|\n",
      "|5008977|       2|\n",
      "|5009187|       2|\n",
      "|5009007|       2|\n",
      "|5009410|       2|\n",
      "|5009182|       2|\n",
      "|5009404|       2|\n",
      "|5010213|       2|\n",
      "|5009607|       2|\n",
      "|5010452|       2|\n",
      "|5009513|       2|\n",
      "|5010796|       2|\n",
      "|5011031|       2|\n",
      "|5021372|       2|\n",
      "|5009917|       2|\n",
      "|5021392|       2|\n",
      "|5018423|       2|\n",
      "|5021406|       2|\n",
      "|5010106|       2|\n",
      "|5021541|       2|\n",
      "+-------+--------+\n",
      "only showing top 20 rows\n",
      "\n"
     ]
    },
    {
     "name": "stderr",
     "output_type": "stream",
     "text": [
      "                                                                                \r"
     ]
    }
   ],
   "source": [
    "# Agregação dos IDs que aparecem mais de uma vez\n",
    "df_grouped = df_gcp.groupBy(\"gcp_ID\").agg(count(\"gcp_ID\").alias(\"ID_Count\"))\n",
    "duplicated_ids = df_grouped.filter(col(\"ID_Count\") > 1)\n",
    "duplicate_count = duplicated_ids.count()\n",
    "print(\"Número de IDs com mais de uma ocorrência: {}\".format(duplicate_count))\n",
    "\n",
    "df_ordered = duplicated_ids.orderBy(col(\"ID_Count\").desc())\n",
    "df_ordered.show()"
   ]
  },
  {
   "cell_type": "markdown",
   "metadata": {},
   "source": [
    "Análise de padrão das diferenças encontradas:"
   ]
  },
  {
   "cell_type": "code",
   "execution_count": 9,
   "metadata": {},
   "outputs": [
    {
     "name": "stderr",
     "output_type": "stream",
     "text": [
      "[Stage 46:==============>                                           (2 + 6) / 8]\r"
     ]
    },
    {
     "name": "stdout",
     "output_type": "stream",
     "text": [
      "+-------+-----------+------------+---------------+------------+----------------+--------------------+-------------------+--------------------+-------------------+----------+-------------+----------+---------------+----------+----------+---------------+---------------+------+-----------+------------+---------------+------------+----------------+----------------+-------------------+------------------+-----------------+----------+-------------+----------+---------------+----------+----------+---------------+---------------+\n",
      "|     ID|CODE_GENDER|FLAG_OWN_CAR|FLAG_OWN_REALTY|CNT_CHILDREN|AMT_INCOME_TOTAL|    NAME_INCOME_TYPE|NAME_EDUCATION_TYPE|  NAME_FAMILY_STATUS|  NAME_HOUSING_TYPE|DAYS_BIRTH|DAYS_EMPLOYED|FLAG_MOBIL|FLAG_WORK_PHONE|FLAG_PHONE|FLAG_EMAIL|OCCUPATION_TYPE|CNT_FAM_MEMBERS|gcp_ID|CODE_GENDER|FLAG_OWN_CAR|FLAG_OWN_REALTY|CNT_CHILDREN|AMT_INCOME_TOTAL|NAME_INCOME_TYPE|NAME_EDUCATION_TYPE|NAME_FAMILY_STATUS|NAME_HOUSING_TYPE|DAYS_BIRTH|DAYS_EMPLOYED|FLAG_MOBIL|FLAG_WORK_PHONE|FLAG_PHONE|FLAG_EMAIL|OCCUPATION_TYPE|CNT_FAM_MEMBERS|\n",
      "+-------+-----------+------------+---------------+------------+----------------+--------------------+-------------------+--------------------+-------------------+----------+-------------+----------+---------------+----------+----------+---------------+---------------+------+-----------+------------+---------------+------------+----------------+----------------+-------------------+------------------+-----------------+----------+-------------+----------+---------------+----------+----------+---------------+---------------+\n",
      "|5009354|          M|           N|              N|           0|        180000.0|Commercial associate|    Lower secondary|             Married|  House / apartment|    -21155|         -130|         1|              0|         1|         0|        Drivers|            2.0|  NULL|       NULL|        NULL|           NULL|        NULL|            NULL|            NULL|               NULL|              NULL|             NULL|      NULL|         NULL|      NULL|           NULL|      NULL|      NULL|           NULL|           NULL|\n",
      "|5010199|          M|           Y|              Y|           0|        135000.0|             Working|    Lower secondary|             Married|       With parents|     -9981|        -1866|         1|              0|         0|         1|       Laborers|            2.0|  NULL|       NULL|        NULL|           NULL|        NULL|            NULL|            NULL|               NULL|              NULL|             NULL|      NULL|         NULL|      NULL|           NULL|      NULL|      NULL|           NULL|           NULL|\n",
      "|5010201|          M|           Y|              Y|           0|        135000.0|             Working|    Lower secondary|             Married|       With parents|     -9981|        -1866|         1|              0|         0|         1|       Laborers|            2.0|  NULL|       NULL|        NULL|           NULL|        NULL|            NULL|            NULL|               NULL|              NULL|             NULL|      NULL|         NULL|      NULL|           NULL|      NULL|      NULL|           NULL|           NULL|\n",
      "|5010205|          M|           Y|              Y|           0|        135000.0|             Working|    Lower secondary|             Married|       With parents|     -9981|        -1866|         1|              0|         0|         1|       Laborers|            2.0|  NULL|       NULL|        NULL|           NULL|        NULL|            NULL|            NULL|               NULL|              NULL|             NULL|      NULL|         NULL|      NULL|           NULL|      NULL|      NULL|           NULL|           NULL|\n",
      "|5018483|          F|           N|              Y|           0|         90000.0|           Pensioner|    Lower secondary|             Married|  House / apartment|    -22319|       365243|         1|              0|         1|         0|           NULL|            2.0|  NULL|       NULL|        NULL|           NULL|        NULL|            NULL|            NULL|               NULL|              NULL|             NULL|      NULL|         NULL|      NULL|           NULL|      NULL|      NULL|           NULL|           NULL|\n",
      "|5021709|          F|           N|              Y|           2|        202500.0|             Working|    Lower secondary|             Married|  House / apartment|    -13483|        -5204|         1|              0|         0|         1|       Laborers|            4.0|  NULL|       NULL|        NULL|           NULL|        NULL|            NULL|            NULL|               NULL|              NULL|             NULL|      NULL|         NULL|      NULL|           NULL|      NULL|      NULL|           NULL|           NULL|\n",
      "|5023079|          F|           N|              Y|           0|         81000.0|           Pensioner|    Lower secondary|             Married|  House / apartment|    -21801|       365243|         1|              0|         0|         0|           NULL|            2.0|  NULL|       NULL|        NULL|           NULL|        NULL|            NULL|            NULL|               NULL|              NULL|             NULL|      NULL|         NULL|      NULL|           NULL|      NULL|      NULL|           NULL|           NULL|\n",
      "|5024922|          M|           N|              Y|           0|        180000.0|             Working|    Lower secondary|Single / not married|  House / apartment|    -14663|        -1188|         1|              0|         0|         0|        Drivers|            1.0|  NULL|       NULL|        NULL|           NULL|        NULL|            NULL|            NULL|               NULL|              NULL|             NULL|      NULL|         NULL|      NULL|           NULL|      NULL|      NULL|           NULL|           NULL|\n",
      "|5025821|          F|           N|              Y|           0|        202500.0|           Pensioner|    Lower secondary|Single / not married|  House / apartment|    -21304|       365243|         1|              0|         0|         0|           NULL|            1.0|  NULL|       NULL|        NULL|           NULL|        NULL|            NULL|            NULL|               NULL|              NULL|             NULL|      NULL|         NULL|      NULL|           NULL|      NULL|      NULL|           NULL|           NULL|\n",
      "|5025826|          F|           N|              Y|           0|        202500.0|           Pensioner|    Lower secondary|Single / not married|  House / apartment|    -21304|       365243|         1|              0|         0|         0|           NULL|            1.0|  NULL|       NULL|        NULL|           NULL|        NULL|            NULL|            NULL|               NULL|              NULL|             NULL|      NULL|         NULL|      NULL|           NULL|      NULL|      NULL|           NULL|           NULL|\n",
      "|5025831|          F|           N|              Y|           0|        202500.0|           Pensioner|    Lower secondary|Single / not married|  House / apartment|    -21304|       365243|         1|              0|         0|         0|           NULL|            1.0|  NULL|       NULL|        NULL|           NULL|        NULL|            NULL|            NULL|               NULL|              NULL|             NULL|      NULL|         NULL|      NULL|           NULL|      NULL|      NULL|           NULL|           NULL|\n",
      "|5026542|          M|           N|              Y|           1|        202500.0|             Working|    Lower secondary|Single / not married|  House / apartment|    -16396|        -2783|         1|              1|         1|         0|           NULL|            2.0|  NULL|       NULL|        NULL|           NULL|        NULL|            NULL|            NULL|               NULL|              NULL|             NULL|      NULL|         NULL|      NULL|           NULL|      NULL|      NULL|           NULL|           NULL|\n",
      "|5028462|          M|           N|              Y|           0|        225000.0|             Working|    Lower secondary|             Married|Municipal apartment|    -10565|         -811|         1|              1|         1|         0|           NULL|            2.0|  NULL|       NULL|        NULL|           NULL|        NULL|            NULL|            NULL|               NULL|              NULL|             NULL|      NULL|         NULL|      NULL|           NULL|      NULL|      NULL|           NULL|           NULL|\n",
      "|5028464|          M|           N|              Y|           0|        225000.0|             Working|    Lower secondary|             Married|Municipal apartment|    -10565|         -811|         1|              1|         1|         0|           NULL|            2.0|  NULL|       NULL|        NULL|           NULL|        NULL|            NULL|            NULL|               NULL|              NULL|             NULL|      NULL|         NULL|      NULL|           NULL|      NULL|      NULL|           NULL|           NULL|\n",
      "|5028899|          M|           Y|              Y|           0|        270000.0|             Working|    Lower secondary|           Separated|  House / apartment|    -19164|        -3825|         1|              1|         0|         0|       Laborers|            1.0|  NULL|       NULL|        NULL|           NULL|        NULL|            NULL|            NULL|               NULL|              NULL|             NULL|      NULL|         NULL|      NULL|           NULL|      NULL|      NULL|           NULL|           NULL|\n",
      "|5029594|          F|           N|              Y|           1|        139500.0|           Pensioner|    Lower secondary|             Married|  House / apartment|    -21735|       365243|         1|              0|         0|         0|           NULL|            3.0|  NULL|       NULL|        NULL|           NULL|        NULL|            NULL|            NULL|               NULL|              NULL|             NULL|      NULL|         NULL|      NULL|           NULL|      NULL|      NULL|           NULL|           NULL|\n",
      "|5029596|          F|           N|              Y|           1|        139500.0|           Pensioner|    Lower secondary|             Married|  House / apartment|    -21735|       365243|         1|              0|         0|         0|           NULL|            3.0|  NULL|       NULL|        NULL|           NULL|        NULL|            NULL|            NULL|               NULL|              NULL|             NULL|      NULL|         NULL|      NULL|           NULL|      NULL|      NULL|           NULL|           NULL|\n",
      "|5033475|          M|           Y|              N|           0|        180000.0|             Working|    Lower secondary|             Married|  House / apartment|    -21054|        -4463|         1|              1|         1|         0|     Core staff|            2.0|  NULL|       NULL|        NULL|           NULL|        NULL|            NULL|            NULL|               NULL|              NULL|             NULL|      NULL|         NULL|      NULL|           NULL|      NULL|      NULL|           NULL|           NULL|\n",
      "|5033986|          F|           N|              N|           0|        144000.0|           Pensioner|    Lower secondary|               Widow|Municipal apartment|    -21675|       365243|         1|              0|         0|         0|           NULL|            1.0|  NULL|       NULL|        NULL|           NULL|        NULL|            NULL|            NULL|               NULL|              NULL|             NULL|      NULL|         NULL|      NULL|           NULL|      NULL|      NULL|           NULL|           NULL|\n",
      "|5035701|          F|           N|              Y|           0|        112500.0|       State servant|    Lower secondary|             Married|  House / apartment|    -19814|        -2656|         1|              0|         0|         0|       Laborers|            2.0|  NULL|       NULL|        NULL|           NULL|        NULL|            NULL|            NULL|               NULL|              NULL|             NULL|      NULL|         NULL|      NULL|           NULL|      NULL|      NULL|           NULL|           NULL|\n",
      "+-------+-----------+------------+---------------+------------+----------------+--------------------+-------------------+--------------------+-------------------+----------+-------------+----------+---------------+----------+----------+---------------+---------------+------+-----------+------------+---------------+------------+----------------+----------------+-------------------+------------------+-----------------+----------+-------------+----------+---------------+----------+----------+---------------+---------------+\n",
      "only showing top 20 rows\n",
      "\n"
     ]
    },
    {
     "name": "stderr",
     "output_type": "stream",
     "text": [
      "                                                                                \r"
     ]
    }
   ],
   "source": [
    "df_joined = df_local.join(df_gcp, df_local[\"ID\"] == df_gcp[\"gcp_ID\"], how='full_outer')\n",
    "\n",
    "df_divergencias = df_joined.filter((F.col(\"ID\").isNull()) | (F.col(\"gcp_ID\").isNull()))\n",
    "\n",
    "df_divergencias.show()"
   ]
  },
  {
   "cell_type": "markdown",
   "metadata": {},
   "source": [
    "Filtro usado para encontrar quais colunas apresentavam diferenças:"
   ]
  },
  {
   "cell_type": "code",
   "execution_count": 10,
   "metadata": {},
   "outputs": [
    {
     "name": "stderr",
     "output_type": "stream",
     "text": [
      "[Stage 53:=============================>                            (4 + 4) / 8]\r"
     ]
    },
    {
     "name": "stdout",
     "output_type": "stream",
     "text": [
      "+-------+--------------------+------------------+-------------------------+-----------------------+-------------------+-----------------+------------------------+----------------------+------------------------+----------------------+\n",
      "|     ID|tb_local_CODE_GENDER|tb_gcp_CODE_GENDER|tb_local_AMT_INCOME_TOTAL|tb_gcp_AMT_INCOME_TOTAL|tb_local_DAYS_BIRTH|tb_gcp_DAYS_BIRTH|tb_local_FLAG_WORK_PHONE|tb_gcp_FLAG_WORK_PHONE|tb_local_OCCUPATION_TYPE|tb_gcp_OCCUPATION_TYPE|\n",
      "+-------+--------------------+------------------+-------------------------+-----------------------+-------------------+-----------------+------------------------+----------------------+------------------------+----------------------+\n",
      "|5008805|                   M|              Male|                 427500.0|             42750000.0|             -12005|            12005|                       1|                  NULL|                    NULL|    Without Occupation|\n",
      "|5008841|                   M|              Male|                 405000.0|             40500000.0|             -11842|            11842|                       0|                  NULL|                Managers|              Managers|\n",
      "|5008844|                   M|              Male|                 112500.0|             11250000.0|             -20502|            20502|                       0|                   0.0|                 Drivers|               Drivers|\n",
      "|5008854|                   F|            Female|                 135000.0|             13500000.0|             -15761|            15761|                       0|                  NULL|                Laborers|              Laborers|\n",
      "|5008862|                   F|            Female|                 135000.0|             13500000.0|             -15761|            15761|                       0|                  NULL|                Laborers|              Laborers|\n",
      "|5008879|                   F|            Female|                 126000.0|             12600000.0|             -12411|            12411|                       0|                  NULL|                Managers|              Managers|\n",
      "|5008882|                   F|            Female|                 126000.0|             12600000.0|             -12411|            12411|                       0|                  NULL|                Managers|              Managers|\n",
      "|5008895|                   F|            Female|                 297000.0|             29700000.0|             -15519|            15519|                       0|                  NULL|                Laborers|              Laborers|\n",
      "|5008897|                   F|            Female|                 297000.0|             29700000.0|             -15519|            15519|                       0|                  NULL|                Laborers|              Laborers|\n",
      "|5008898|                   F|            Female|                 297000.0|             29700000.0|             -15519|            15519|                       0|                  NULL|                Laborers|              Laborers|\n",
      "|5008910|                   F|            Female|                 297000.0|             29700000.0|             -15519|            15519|                       0|                  NULL|                Laborers|              Laborers|\n",
      "|5008923|                   F|            Female|                 297000.0|             29700000.0|             -15519|            15519|                       0|                  NULL|                Laborers|              Laborers|\n",
      "|5008944|                   F|            Female|                 157500.0|             15750000.0|             -13642|            13642|                       0|                   0.0|    High skill tech s...|  High skill tech s...|\n",
      "|5008946|                   F|            Female|                 157500.0|             15750000.0|             -13642|            13642|                       0|                   0.0|    High skill tech s...|  High skill tech s...|\n",
      "|5008959|                   F|            Female|                 135000.0|             13500000.0|             -17785|            17785|                       0|                  NULL|                Laborers|              Laborers|\n",
      "|5008967|                   M|              Male|                 157500.0|             15750000.0|             -16027|            16027|                       0|                   0.0|                    NULL|    Without Occupation|\n",
      "|5008979|                   F|            Female|                 112500.0|             11250000.0|             -22319|            22319|                       0|                  NULL|                    NULL|    Without Occupation|\n",
      "|5008981|                   M|              Male|                 112500.0|             11250000.0|             -20874|            20874|                       0|                   0.0|                 Drivers|               Drivers|\n",
      "|5008986|                   M|              Male|                 112500.0|             11250000.0|             -20874|            20874|                       0|                   0.0|                 Drivers|               Drivers|\n",
      "|5008999|                   F|            Female|                 270000.0|             27000000.0|             -10628|            10628|                       0|                  NULL|                Managers|              Managers|\n",
      "+-------+--------------------+------------------+-------------------------+-----------------------+-------------------+-----------------+------------------------+----------------------+------------------------+----------------------+\n",
      "only showing top 20 rows\n",
      "\n"
     ]
    },
    {
     "name": "stderr",
     "output_type": "stream",
     "text": [
      "                                                                                \r"
     ]
    }
   ],
   "source": [
    "# Retira os registros duplicados\n",
    "df_gcp = df_gcp.dropDuplicates()\n",
    "\n",
    "# Join com condições\n",
    "joined = df_local.join(df_gcp, (\n",
    "    (df_local[\"ID\"] == df_gcp[\"gcp_ID\"]) &\n",
    "    (df_local.FLAG_OWN_CAR == df_gcp.FLAG_OWN_CAR) &\n",
    "    (df_local.FLAG_OWN_REALTY == df_gcp.FLAG_OWN_REALTY) &\n",
    "    (df_local.CNT_CHILDREN == df_gcp.CNT_CHILDREN) &\n",
    "    (df_local.NAME_INCOME_TYPE == df_gcp.NAME_INCOME_TYPE) &\n",
    "    (df_local.NAME_EDUCATION_TYPE == df_gcp.NAME_EDUCATION_TYPE) &\n",
    "    (df_local.NAME_FAMILY_STATUS == df_gcp.NAME_FAMILY_STATUS) &\n",
    "    (df_local.NAME_HOUSING_TYPE == df_gcp.NAME_HOUSING_TYPE) &\n",
    "    (df_local.DAYS_EMPLOYED == df_gcp.DAYS_EMPLOYED) &\n",
    "    (df_local.FLAG_MOBIL == df_gcp.FLAG_MOBIL) &\n",
    "    (df_local.FLAG_PHONE == df_gcp.FLAG_PHONE) &\n",
    "    (df_local.FLAG_EMAIL == df_gcp.FLAG_EMAIL) &\n",
    "    (df_local.CNT_FAM_MEMBERS == df_gcp.CNT_FAM_MEMBERS)\n",
    "), \"left\")\n",
    "\n",
    "filtered = joined.filter(col(\"gcp_ID\").isNotNull())\n",
    "\n",
    "# Selecionar somente as colunas com divergência\n",
    "df_selected = filtered.select(\n",
    "    df_local[\"ID\"],\n",
    "    df_local[\"CODE_GENDER\"].alias(\"tb_local_CODE_GENDER\"),\n",
    "    df_gcp[\"CODE_GENDER\"].alias(\"tb_gcp_CODE_GENDER\"),\n",
    "    df_local[\"AMT_INCOME_TOTAL\"].alias(\"tb_local_AMT_INCOME_TOTAL\"),\n",
    "    df_gcp[\"AMT_INCOME_TOTAL\"].alias(\"tb_gcp_AMT_INCOME_TOTAL\"),\n",
    "    df_local[\"DAYS_BIRTH\"].alias(\"tb_local_DAYS_BIRTH\"),\n",
    "    df_gcp[\"DAYS_BIRTH\"].alias(\"tb_gcp_DAYS_BIRTH\"),\n",
    "    df_local[\"FLAG_WORK_PHONE\"].alias(\"tb_local_FLAG_WORK_PHONE\"),\n",
    "    df_gcp[\"FLAG_WORK_PHONE\"].alias(\"tb_gcp_FLAG_WORK_PHONE\"),\n",
    "    df_local[\"OCCUPATION_TYPE\"].alias(\"tb_local_OCCUPATION_TYPE\"),\n",
    "    df_gcp[\"OCCUPATION_TYPE\"].alias(\"tb_gcp_OCCUPATION_TYPE\")\n",
    ")\n",
    "\n",
    "df_selected.show()"
   ]
  },
  {
   "cell_type": "markdown",
   "metadata": {},
   "source": [
    "Transformação das tabelas do GCP divergentes da tabela local:"
   ]
  },
  {
   "cell_type": "code",
   "execution_count": 11,
   "metadata": {},
   "outputs": [
    {
     "name": "stderr",
     "output_type": "stream",
     "text": [
      "[Stage 58:==============>                                           (2 + 6) / 8]\r"
     ]
    },
    {
     "name": "stdout",
     "output_type": "stream",
     "text": [
      "+-------+-----------+------------+---------------+------------+----------------+--------------------+--------------------+--------------------+-------------------+----------+-------------+----------+---------------+----------+----------+--------------------+---------------+\n",
      "|     ID|CODE_GENDER|FLAG_OWN_CAR|FLAG_OWN_REALTY|CNT_CHILDREN|AMT_INCOME_TOTAL|    NAME_INCOME_TYPE| NAME_EDUCATION_TYPE|  NAME_FAMILY_STATUS|  NAME_HOUSING_TYPE|DAYS_BIRTH|DAYS_EMPLOYED|FLAG_MOBIL|FLAG_WORK_PHONE|FLAG_PHONE|FLAG_EMAIL|     OCCUPATION_TYPE|CNT_FAM_MEMBERS|\n",
      "+-------+-----------+------------+---------------+------------+----------------+--------------------+--------------------+--------------------+-------------------+----------+-------------+----------+---------------+----------+----------+--------------------+---------------+\n",
      "|5008947|          M|           N|              Y|           0|        135000.0|             Working|Secondary / secon...|             Married|  House / apartment|  -15484.0|        -1408|         1|            1.0|         1|         0|             Drivers|            2.0|\n",
      "|6153702|          F|           N|              N|           1|        202500.0|             Working|Secondary / secon...|             Married|  House / apartment|  -11813.0|        -3266|         1|            1.0|         1|         0|         Sales staff|            3.0|\n",
      "|5018451|          F|           N|              Y|           1|        675000.0|Commercial associate|    Higher education|             Married|  House / apartment|  -15843.0|        -1398|         1|            0.0|         1|         0|         Sales staff|            3.0|\n",
      "|6423372|          M|           N|              Y|           0|        135000.0|             Working|Secondary / secon...|Single / not married|  House / apartment|  -10682.0|         -609|         1|            0.0|         1|         0|         Sales staff|            1.0|\n",
      "|5021605|          F|           N|              Y|           0|        225000.0|       State servant|    Higher education|             Married|  House / apartment|  -19309.0|        -2435|         1|            0.0|         1|         0|                    |            2.0|\n",
      "|5022154|          F|           Y|              Y|           2|        180000.0|Commercial associate|    Higher education|             Married|  House / apartment|  -11719.0|        -2866|         1|            0.0|         1|         1|                    |            4.0|\n",
      "|5023727|          M|           Y|              N|           1|        495000.0|             Working|Secondary / secon...|             Married|  House / apartment|  -10261.0|         -235|         1|            0.0|         1|         0|            Laborers|            3.0|\n",
      "|5024285|          M|           Y|              Y|           0|        315000.0|Commercial associate|Secondary / secon...|             Married|  House / apartment|  -15509.0|        -1189|         1|            1.0|         1|         0|             Drivers|            2.0|\n",
      "|5872384|          F|           Y|              N|           0|         90000.0|Commercial associate|Secondary / secon...|             Married|  House / apartment|  -18652.0|        -5633|         1|            0.0|         1|         0|            Laborers|            2.0|\n",
      "|5703075|          F|           N|              N|           0|         90000.0|             Working|Secondary / secon...|             Married|  House / apartment|  -17825.0|        -8410|         1|            1.0|         1|         0|            Laborers|            2.0|\n",
      "|6195657|          M|           Y|              N|           0|        225000.0|       State servant|    Higher education|             Married|  House / apartment|  -13024.0|        -2118|         1|            1.0|         1|         0|             Drivers|            2.0|\n",
      "|5033454|          M|           Y|              N|           0|        126000.0|             Working|Secondary / secon...|             Married|  House / apartment|  -17931.0|        -5437|         1|            1.0|         1|         1|             Drivers|            2.0|\n",
      "|5298353|          M|           Y|              Y|           1|        252000.0|             Working|    Higher education|             Married|  House / apartment|  -16407.0|        -2089|         1|            0.0|         1|         0|High skill tech s...|            3.0|\n",
      "|5836603|          F|           N|              N|           0|        135000.0|       State servant|    Higher education|             Married|  House / apartment|  -12255.0|         -270|         1|            0.0|         1|         0|                    |            2.0|\n",
      "|5836804|          M|           Y|              Y|           2|        247500.0|Commercial associate|Secondary / secon...|             Married|  House / apartment|  -12505.0|        -3343|         1|            0.0|         1|         0|            Laborers|            4.0|\n",
      "|5078857|          M|           N|              N|           0|        360000.0|             Working|Secondary / secon...|             Married|   Rented apartment|  -13958.0|         -969|         1|            0.0|         1|         0|             Drivers|            2.0|\n",
      "|5539240|          F|           Y|              Y|           0|        225000.0|Commercial associate|    Higher education|             Married|  House / apartment|  -12437.0|         -735|         1|            0.0|         1|         0|         Accountants|            2.0|\n",
      "|5037235|          F|           N|              Y|           0|        153000.0|             Working|Secondary / secon...|             Married|  House / apartment|  -11511.0|        -1626|         1|            0.0|         1|         0|                    |            2.0|\n",
      "|5041627|          M|           N|              Y|           0|        292500.0|Commercial associate|    Higher education|Single / not married|   Rented apartment|   -9990.0|        -1221|         1|            0.0|         1|         0|         Sales staff|            1.0|\n",
      "|5044794|          M|           Y|              Y|           1|        247500.0|             Working|    Higher education|             Married|Municipal apartment|  -15606.0|         -160|         1|            0.0|         1|         0|         Sales staff|            3.0|\n",
      "+-------+-----------+------------+---------------+------------+----------------+--------------------+--------------------+--------------------+-------------------+----------+-------------+----------+---------------+----------+----------+--------------------+---------------+\n",
      "only showing top 20 rows\n",
      "\n"
     ]
    },
    {
     "name": "stderr",
     "output_type": "stream",
     "text": [
      "                                                                                \r"
     ]
    }
   ],
   "source": [
    "df_transformed = df_gcp.select(\n",
    "    col(\"gcp_ID\").alias(\"ID\"),\n",
    "    when(col(\"CODE_GENDER\") == \"Male\", \"M\")\n",
    "    .when(col(\"CODE_GENDER\") == \"Female\", \"F\")\n",
    "    .otherwise(None).alias(\"CODE_GENDER\"),\n",
    "    col(\"FLAG_OWN_CAR\"),\n",
    "    col(\"FLAG_OWN_REALTY\"),\n",
    "    col(\"CNT_CHILDREN\"),\n",
    "    (col(\"AMT_INCOME_TOTAL\") / 100).alias(\"AMT_INCOME_TOTAL\"),\n",
    "    col(\"NAME_INCOME_TYPE\"),\n",
    "    col(\"NAME_EDUCATION_TYPE\"),\n",
    "    col(\"NAME_FAMILY_STATUS\"),\n",
    "    col(\"NAME_HOUSING_TYPE\"),\n",
    "    (col(\"DAYS_BIRTH\") * -1).alias(\"DAYS_BIRTH\"),\n",
    "    col(\"DAYS_EMPLOYED\"),\n",
    "    col(\"FLAG_MOBIL\"),\n",
    "    col(\"FLAG_WORK_PHONE\"),\n",
    "    col(\"FLAG_PHONE\"),\n",
    "    col(\"FLAG_EMAIL\"),\n",
    "    when(col(\"OCCUPATION_TYPE\") == \"Without Occupation\", \"\")\n",
    "    .otherwise(col(\"OCCUPATION_TYPE\")).alias(\"OCCUPATION_TYPE\"),\n",
    "    col(\"CNT_FAM_MEMBERS\")\n",
    ").distinct()\n",
    "\n",
    "df_transformed.show()\n"
   ]
  }
 ],
 "metadata": {
  "kernelspec": {
   "display_name": "Python 3",
   "language": "python",
   "name": "python3"
  },
  "language_info": {
   "codemirror_mode": {
    "name": "ipython",
    "version": 3
   },
   "file_extension": ".py",
   "mimetype": "text/x-python",
   "name": "python",
   "nbconvert_exporter": "python",
   "pygments_lexer": "ipython3",
   "version": "3.9.9"
  }
 },
 "nbformat": 4,
 "nbformat_minor": 2
}
